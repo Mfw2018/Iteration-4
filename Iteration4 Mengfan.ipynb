{
 "cells": [
  {
   "cell_type": "markdown",
   "metadata": {},
   "source": [
    "# 2. Data Understanding\n",
    "## 2.1 Input data"
   ]
  },
  {
   "cell_type": "code",
   "execution_count": 1,
   "metadata": {},
   "outputs": [],
   "source": [
    "# Section must be included at the beginning of each new notebook. Remember to change the app name.\n",
    "# If you're using VirtualBox, change the below to '/home/user/spark-2.1.1-bin-hadoop2.7'\n",
    "import findspark\n",
    "findspark.init('/home/ubuntu/spark-2.1.1-bin-hadoop2.7')\n",
    "import pyspark\n",
    "from pyspark.sql import SparkSession\n",
    "spark = SparkSession.builder.appName('linear_regression_adv').getOrCreate()\n",
    "\n",
    "# If you're getting an error with numpy, please type 'sudo pip3 install numpy --user' into the console.\n",
    "# If you're getting an error with another package, type 'sudo pip3 install PACKAGENAME --user'. \n",
    "# Replace PACKAGENAME with the relevant package (such as pandas, etc).\n",
    "from pyspark.ml.regression import LinearRegression\n",
    "\n",
    "# First, let's import the data. Note that we can infer the schema as it's a CSV file.\n",
    "df1990 = spark.read.csv(\"SN1990.csv\",inferSchema=True,header=True)\n",
    "df2000 = spark.read.csv(\"SN2000.csv\",inferSchema=True,header=True)\n",
    "df2008 = spark.read.csv(\"SN2008.csv\",inferSchema=True,header=True)\n",
    "df2009 = spark.read.csv(\"SN2009.csv\",inferSchema=True,header=True)\n",
    "df2010 = spark.read.csv(\"SN2010.csv\",inferSchema=True,header=True)\n",
    "df2011 = spark.read.csv(\"SN2011.csv\",inferSchema=True,header=True)\n",
    "df2012 = spark.read.csv(\"SN2012.csv\",inferSchema=True,header=True)\n",
    "df2013 = spark.read.csv(\"SN2013.csv\",inferSchema=True,header=True)\n",
    "df2014 = spark.read.csv(\"SN2014.csv\",inferSchema=True,header=True)\n",
    "df2015 = spark.read.csv(\"SN2015.csv\",inferSchema=True,header=True)\n",
    "df2016 = spark.read.csv(\"SN2016.csv\",inferSchema=True,header=True)\n",
    "df2017 = spark.read.csv(\"SN2017.csv\",inferSchema=True,header=True)\n",
    "#inport the data set after filling the NAs\n",
    "df1990f = spark.read.csv(\"SN1990F.csv\",inferSchema=True,header=True)\n",
    "df2000f = spark.read.csv(\"SN2000F.csv\",inferSchema=True,header=True)\n",
    "df2008f = spark.read.csv(\"SN2008F.csv\",inferSchema=True,header=True)\n",
    "df2009f = spark.read.csv(\"SN2009F.csv\",inferSchema=True,header=True)\n",
    "df2010f = spark.read.csv(\"SN2010F.csv\",inferSchema=True,header=True)\n",
    "df2011f = spark.read.csv(\"SN2011F.csv\",inferSchema=True,header=True)\n",
    "df2012f = spark.read.csv(\"SN2012F.csv\",inferSchema=True,header=True)\n",
    "df2013f = spark.read.csv(\"SN2013F.csv\",inferSchema=True,header=True)\n",
    "df2014f = spark.read.csv(\"SN2014F.csv\",inferSchema=True,header=True)\n",
    "df2015f = spark.read.csv(\"SN2015F.csv\",inferSchema=True,header=True)\n",
    "df2016f = spark.read.csv(\"SN2016F.csv\",inferSchema=True,header=True)\n",
    "df2017f = spark.read.csv(\"SN2017F.csv\",inferSchema=True,header=True)"
   ]
  },
  {
   "cell_type": "code",
   "execution_count": 2,
   "metadata": {
    "scrolled": true
   },
   "outputs": [
    {
     "name": "stdout",
     "output_type": "stream",
     "text": [
      "[Row(CN='Leastdevelopedcountries', GDP=Decimal('146000000000'), FDINI=477000000.0, NFA=None, GDPg=0.099339613, GDPpcg=-2.575586368, GCaFg=None, Ind1=None, ind2=None, Ser=None, ExGSgp=None, ADRold=5.968669976, ADRyoun=85.58148649, PPg=2.745642372, PPf=50.20598922, PPm=49.79401078, PP1519f=10.41887933, PP1519m=10.64158095, PP2024f=8.901835419, PP2024m=8.90969826, PP2529m=7.365186431, PP2529f=7.407481048, PP65above=3.115982825, PP65afnum=8534747, PP65af=3.327885947, PP1564m=51.83142093, PP1564f=52.57680582, Lab1524f=50.09346038, Lab1524m=69.11372515, Lab1524tot=59.62070009, Labf=40.4122482, Labtot=195299726, RFtoMlabpartcp=70.42506649)]\n",
      "root\n",
      " |-- CN: string (nullable = true)\n",
      " |-- GDP: decimal(12,0) (nullable = true)\n",
      " |-- FDINI: double (nullable = true)\n",
      " |-- NFA: double (nullable = true)\n",
      " |-- GDPg: double (nullable = true)\n",
      " |-- GDPpcg: double (nullable = true)\n",
      " |-- GCaFg: double (nullable = true)\n",
      " |-- Ind1: double (nullable = true)\n",
      " |-- ind2: double (nullable = true)\n",
      " |-- Ser: double (nullable = true)\n",
      " |-- ExGSgp: double (nullable = true)\n",
      " |-- ADRold: double (nullable = true)\n",
      " |-- ADRyoun: double (nullable = true)\n",
      " |-- PPg: double (nullable = true)\n",
      " |-- PPf: double (nullable = true)\n",
      " |-- PPm: double (nullable = true)\n",
      " |-- PP1519f: double (nullable = true)\n",
      " |-- PP1519m: double (nullable = true)\n",
      " |-- PP2024f: double (nullable = true)\n",
      " |-- PP2024m: double (nullable = true)\n",
      " |-- PP2529m: double (nullable = true)\n",
      " |-- PP2529f: double (nullable = true)\n",
      " |-- PP65above: double (nullable = true)\n",
      " |-- PP65afnum: integer (nullable = true)\n",
      " |-- PP65af: double (nullable = true)\n",
      " |-- PP1564m: double (nullable = true)\n",
      " |-- PP1564f: double (nullable = true)\n",
      " |-- Lab1524f: double (nullable = true)\n",
      " |-- Lab1524m: double (nullable = true)\n",
      " |-- Lab1524tot: double (nullable = true)\n",
      " |-- Labf: double (nullable = true)\n",
      " |-- Labtot: integer (nullable = true)\n",
      " |-- RFtoMlabpartcp: double (nullable = true)\n",
      "\n"
     ]
    }
   ],
   "source": [
    "# Let's explore. Here's the first row of the data.\n",
    "print(df1990.head(1))\n",
    "\n",
    "# And the entire data structure. \n",
    "df1990.printSchema()"
   ]
  },
  {
   "cell_type": "code",
   "execution_count": 3,
   "metadata": {},
   "outputs": [
    {
     "name": "stdout",
     "output_type": "stream",
     "text": [
      "+-------+-----------+--------------------+-------------------+--------------------+------------------+-------------------+------------------+------------------+------------------+------------------+------------------+------------------+------------------+------------------+------------------+------------------+------------------+------------------+------------------+------------------+------------------+-----------------+------------------+------------------+------------------+-----------------+------------------+-----------------+------------------+------------------+------------------+-------------------+------------------+\n",
      "|summary|         CN|                 GDP|              FDINI|                 NFA|              GDPg|             GDPpcg|             GCaFg|              Ind1|              ind2|               Ser|            ExGSgp|            ADRold|           ADRyoun|               PPg|               PPf|               PPm|           PP1519f|           PP1519m|           PP2024f|           PP2024m|           PP2529m|          PP2529f|         PP65above|         PP65afnum|            PP65af|          PP1564m|           PP1564f|         Lab1524f|          Lab1524m|        Lab1524tot|              Labf|             Labtot|    RFtoMlabpartcp|\n",
      "+-------+-----------+--------------------+-------------------+--------------------+------------------+-------------------+------------------+------------------+------------------+------------------+------------------+------------------+------------------+------------------+------------------+------------------+------------------+------------------+------------------+------------------+------------------+-----------------+------------------+------------------+------------------+-----------------+------------------+-----------------+------------------+------------------+------------------+-------------------+------------------+\n",
      "|  count|         82|                  69|                 64|                  55|                68|                 68|                35|                53|                42|                53|                40|                81|                81|                81|                81|                81|                81|                81|                81|                81|                81|               81|                81|                81|                81|               81|                81|               79|                79|                79|                79|                 79|                79|\n",
      "|   mean|       null|    16110130468.9855|7.969490602489842E7|-1.05471843783999...|1.7082382395735294|-0.7397025178676472|11.024816820971429| 4.671033620283017| 4.695513976547618| 4.482613622264152|    4.576500844825| 6.661469368518517|  82.7339470077778| 2.404560058172839| 50.32778221481482| 49.67221778518518|10.262658930493828|10.530915877876541| 8.797350568135801| 8.866938347864199| 7.459998954432095|7.513087804716051|3.5877828179382716| 683655.6790123457| 3.992894003333332|52.75258252469133|53.434096536049395|47.32366399260759| 61.58621169265823|  54.5081102306329| 40.28141802189873|1.312467635443038E7| 68.57902937683544|\n",
      "| stddev|       null|4.404884064709942E10|2.061819575500871E8| 2.308713095574879E9| 8.385974579927877|  7.909246739771377|21.961400198370516|15.016079790645199|14.718428628413971|11.441438253113182|16.128716686062507|2.1140798496826876|14.911185992423158|1.0549115349555385|1.0402120410287747|1.0402120410287747|0.8305969668408291|0.7770376861079011|0.7404356779436542|0.7391273656638143|0.6607451601028214|0.612368692353122| 1.482857624601262|2152524.7356998296|1.9864788908664957|4.633609199204621|3.9718958336156303|19.63205302070083|14.261604390203955|14.827904992227301|10.402971861201458|4.307513029792445E7|24.156457400577878|\n",
      "|    min|Afghanistan|            39800000|           -3.348E8|             -7.61E9|      -51.03086495|       -50.23014355|      -19.23098728|      -27.70834809|      -22.77266634|      -38.18851575|      -23.50356705|       2.870206081|       31.78395479|      -1.621930594|       48.07944893|       46.50465067|       6.485849112|       7.684314649|        5.98219558|       6.599050182|       5.909762996|      6.377707615|       1.708130911|              1440|       1.861109989|      44.68475371|        46.5641601|      6.177000046|       23.02700043|        20.8010006|       12.98916251|              33085|       15.10088905|\n",
      "|    max|   Zimbabwe|        317000000000|            1.093E9|          1.35595E10|       21.01800054|        16.98707845|       103.2687365|       95.38436795|       78.82681364|       40.85870244|        74.9422708|       17.95103257|        113.702195|       4.598379808|       53.49534933|       51.92055107|       11.64575996|       12.00960641|       11.03195497|       12.02097645|       8.928317993|      8.894019521|       11.98853622|          16755019|       15.75394076|      69.11969392|       68.32045405|      86.29799652|       89.19799805|       87.73000336|       55.61218423|          327612407|       105.8627944|\n",
      "+-------+-----------+--------------------+-------------------+--------------------+------------------+-------------------+------------------+------------------+------------------+------------------+------------------+------------------+------------------+------------------+------------------+------------------+------------------+------------------+------------------+------------------+------------------+-----------------+------------------+------------------+------------------+-----------------+------------------+-----------------+------------------+------------------+------------------+-------------------+------------------+\n",
      "\n"
     ]
    }
   ],
   "source": [
    "df1990.describe().show()"
   ]
  },
  {
   "cell_type": "markdown",
   "metadata": {
    "scrolled": false
   },
   "source": [
    "## 2.2Explore the data"
   ]
  },
  {
   "cell_type": "code",
   "execution_count": 4,
   "metadata": {},
   "outputs": [
    {
     "name": "stdout",
     "output_type": "stream",
     "text": [
      "+--------------+-----+----------+----------+------+----+-------+--------+--------------+\n",
      "|            CN| GDPg|     FDINI|       NFA| GCaFg| PPg|PP1519f|Lab1524f|RFtoMlabpartcp|\n",
      "+--------------+-----+----------+----------+------+----+-------+--------+--------------+\n",
      "|    Bangladesh| 5.62|3238781.19|   -4.85E8|  5.52|2.47|  10.76|   21.06|         26.19|\n",
      "|         Benin| 8.98|    6.24E7|    1.15E8| 46.21|3.24|  10.04|   55.07|         64.26|\n",
      "|       Bolivia| 4.64|    2.72E7|  -2.056E8| 17.68|1.96|  10.45|   46.75|         68.28|\n",
      "|      Cameroon|-6.11|   -1.13E8|   -6.28E8|  1.54|2.97|  10.09|   57.88|         84.86|\n",
      "|       Comoros| 5.09|  393003.1|   -1.86E7| 13.77|2.95|  10.19|   18.54|         58.38|\n",
      "|      CongoRep|  1.0|    2.26E7|   -2.93E8| 14.74|2.72|  10.71|   46.34|         92.29|\n",
      "|  EgyptArabRep|  5.7|    7.34E8|1.35595E10| -0.63|2.48|   9.58|    20.4|         29.44|\n",
      "|      Honduras|  0.1|    4.35E7|   -1.61E8|  3.24|2.89|  10.91|   38.86|         48.39|\n",
      "|         India| 5.53|  2.3669E8|   -7.61E9| 18.69|2.07|  10.06|   30.02|         41.55|\n",
      "|     Indonesia| 7.24|   1.093E9|  -2.232E9|103.27|1.78|  10.86|   38.49|         54.08|\n",
      "|         Kenya| 4.19|    5.71E7|   -5.25E8| -6.99|3.34|  11.04|    57.6|         90.83|\n",
      "|       Lesotho| 6.05|    1.71E7|    2.28E8| 28.03|1.76|  10.45|   64.14|         82.15|\n",
      "|    Madagascar| 3.13|    2.24E7|   -2.65E8|  28.0|2.89|  10.72|   74.49|         94.57|\n",
      "|    Mauritania|-1.77|6736220.52|   -6.08E7|  5.63| 2.7|  10.64|    32.3|         39.81|\n",
      "|       Morocco| 3.41|    1.65E8|   -1.92E8|  1.74|1.86|  10.63|   24.85|         30.46|\n",
      "|       Nigeria|12.77|    5.88E8|    5.22E9| 40.32|2.58|   10.3|   36.56|         72.78|\n",
      "|      Pakistan| 4.46|    2.45E8|   -1.76E9|  5.14|2.91|  10.07|   13.78|         16.61|\n",
      "|PapuaNewGuinea|-3.01|    1.55E8|   -1.33E8|  0.62|2.52|   10.7|   62.42|         95.78|\n",
      "|   Philippines| 3.04|     5.3E8|   -2.11E9| 15.83|2.54|  10.55|   35.51|         59.94|\n",
      "|       Senegal|-0.68|    5.69E7|   -2.02E8| 27.05|3.05|  10.64|   29.74|         44.62|\n",
      "+--------------+-----+----------+----------+------+----+-------+--------+--------------+\n",
      "only showing top 20 rows\n",
      "\n",
      "+-------+--------+--------+--------+--------+--------+--------+--------+--------------+\n",
      "|summary|    GDPg|   FDINI|     NFA|   GCaFg|     PPg| PP1519f|Lab1524f|RFtoMlabpartcp|\n",
      "+-------+--------+--------+--------+--------+--------+--------+--------+--------------+\n",
      "|  count|      68|      64|      55|      35|      81|      81|      79|            79|\n",
      "|   mean|1.708...|7.969...|-1.05...|11.02...|2.404...|10.26...|47.32...|      68.57...|\n",
      "| stddev|8.385...|2.061...|2.308...|21.96...|1.054...|0.830...|19.63...|      24.15...|\n",
      "|    min|-51.0...|-3.348E8| -7.61E9|-19.2...|-1.62...|6.485...|6.177...|      15.10...|\n",
      "|    max|21.01...| 1.093E9|1.355...|103.2...|4.598...|11.64...|86.29...|      105.8...|\n",
      "+-------+--------+--------+--------+--------+--------+--------+--------+--------------+\n",
      "\n"
     ]
    }
   ],
   "source": [
    "#select columns\n",
    "#df.columns[:3 and 5]\n",
    "import pyspark.sql.functions as func\n",
    "SCol=['GDPg','FDINI','NFA', 'GCaFg','PPg', 'PP1519f', 'Lab1524f', 'RFtoMlabpartcp']\n",
    "df1990na = df1990.na.drop()\n",
    "Y1990_col=df1990na.select('CN','GDPg','FDINI','NFA', 'GCaFg','PPg', 'PP1519f', 'Lab1524f', 'RFtoMlabpartcp')\n",
    "Y1990_col=Y1990_col.withColumn('GDPg',func.round(Y1990_col['GDPg'], 2))\n",
    "Y1990_col=Y1990_col.withColumn('FDINI',func.round(Y1990_col['FDINI'], 2))\n",
    "Y1990_col=Y1990_col.withColumn('NFA',func.round(Y1990_col['NFA'], 2))\n",
    "Y1990_col=Y1990_col.withColumn('GCaFg',func.round(Y1990_col['GCaFg'], 2))\n",
    "Y1990_col=Y1990_col.withColumn('PPg',func.round(Y1990_col['PPg'], 2))\n",
    "Y1990_col=Y1990_col.withColumn('PP1519f',func.round(Y1990_col['PP1519f'], 2))\n",
    "Y1990_col=Y1990_col.withColumn('Lab1524f',func.round(Y1990_col['Lab1524f'], 2))\n",
    "Y1990_col=Y1990_col.withColumn('RFtoMlabpartcp',func.round(Y1990_col['RFtoMlabpartcp'], 2))\n",
    "Y1990_col.show(20)\n",
    "#another way\n",
    "df1990.select('GDPg','FDINI','NFA', 'GCaFg','PPg', 'PP1519f', 'Lab1524f', 'RFtoMlabpartcp').describe().show(truncate = 8)\n"
   ]
  },
  {
   "cell_type": "code",
   "execution_count": 5,
   "metadata": {},
   "outputs": [
    {
     "name": "stdout",
     "output_type": "stream",
     "text": [
      "+--------+--------+--------+--------+--------+--------+--------+--------+--------------+\n",
      "|      CN|    GDPg|   FDINI|     NFA|   GCaFg|     PPg| PP1519f|Lab1524f|RFtoMlabpartcp|\n",
      "+--------+--------+--------+--------+--------+--------+--------+--------+--------------+\n",
      "|Least...|5.264...| 1.33E10|    null|14.09...|2.358...|10.52...|48.50...|      75.92...|\n",
      "|Afgha...|2.595...| 5.339E7|  4.47E8|0.174...|2.490...|11.85...|22.86...|      22.45...|\n",
      "|  Angola|0.721...|3.272...|-4.07...|21.26...|3.313...|10.50...|56.85...|      94.04...|\n",
      "|Bangl...|7.284...|  2.15E9| -7.52E9|10.14...|1.048...|9.695...|23.46...|      41.39...|\n",
      "|   Benin|5.584...|2.253...|-6.13...|21.30...|2.752...|10.52...|45.63...|      93.91...|\n",
      "|  Bhutan|6.818...|  -1.1E7| -3.64E8|2.901...|1.226...|9.645...|33.61...|      78.13...|\n",
      "| Bolivia|4.195...|  7.25E8| -2.76E9|15.85...|1.492...|9.812...|35.10...|      69.05...|\n",
      "|Burki...|6.742...|3.581...|-6.22...|10.17...|2.891...|10.67...|44.58...|      77.36...|\n",
      "| Burundi|0.519...|4.705...|-2.79...|-5.06...|3.180...|9.936...|57.65...|      103.5...|\n",
      "|CaboV...|3.891...|  1.09E8|  -7.5E7|7.013...|1.257...|10.28...|26.14...|      69.34...|\n",
      "|Cambodia|6.814...|1.960...|-1.54...|5.995...|1.529...|9.069...|73.86...|      91.28...|\n",
      "|Cameroon|3.177...|6.654...|-1.12...|8.606...|2.588...|10.46...|51.93...|      87.68...|\n",
      "|Centr...|4.299...|1.390...| -8.63E7|36.15...|1.393...|11.48...|51.34...|      79.21...|\n",
      "|    Chad|-2.95...|3.233...| -7.27E7|-22.6...|3.049...|11.15...|55.85...|      83.49...|\n",
      "| Comoros|     2.5|60304...|1.266...|-1.67...|2.275...|10.28...|13.90...|      71.61...|\n",
      "|Congo...|3.700...|1.587...|-1.68...|7.461...|3.253...|10.29...|51.82...|      97.10...|\n",
      "|CongoRep|-4.58...|2.749...|-1.17...|-47.5...|2.598...|9.967...|44.41...|      93.65...|\n",
      "|Coted...|7.797...|5.020...|2.580...|-1.56...|2.495...|11.02...|30.80...|      72.71...|\n",
      "|Djibouti|4.090...|1.689...|-2.77...|15.57...|1.542...|10.16...|38.06...|      72.18...|\n",
      "|Egypt...|4.181221|7.3917E9|-9.73...|11.32...|1.929...|8.408...|19.77...|      30.09...|\n",
      "+--------+--------+--------+--------+--------+--------+--------+--------+--------------+\n",
      "only showing top 20 rows\n",
      "\n",
      "+-------+--------+--------+--------+--------+--------+--------+--------+--------+--------------+\n",
      "|summary|      CN|    GDPg|   FDINI|     NFA|   GCaFg|     PPg| PP1519f|Lab1524f|RFtoMlabpartcp|\n",
      "+-------+--------+--------+--------+--------+--------+--------+--------+--------+--------------+\n",
      "|  count|      82|      81|      82|      78|      73|      82|      81|      79|            79|\n",
      "|   mean|    null|3.880...|2.061...|-2.05...|10.76...|1.965...|9.871...|40.85...|      72.37...|\n",
      "| stddev|    null|4.145...|5.447...|5.162...|25.46...|0.919...|1.552...|19.23...|      23.35...|\n",
      "|    min|Afgha...|-22.3...|-2.88...|-3.69E10|-47.5...|-0.87...|4.044...|4.721...|      8.613...|\n",
      "|    max|Zimbabwe|12.70...|  4.0E10|  4.32E9|180.5...|3.817...|12.01...|77.37...|      110.6...|\n",
      "+-------+--------+--------+--------+--------+--------+--------+--------+--------+--------------+\n",
      "\n"
     ]
    }
   ],
   "source": [
    "Y2017f_col=df2017f.select('CN','GDPg','FDINI','NFA', 'GCaFg','PPg', 'PP1519f', 'Lab1524f', 'RFtoMlabpartcp')\n",
    "Y2017f_col.show(truncate = 8)\n",
    "Y2017f_col.describe().show(truncate = 8)"
   ]
  },
  {
   "cell_type": "code",
   "execution_count": 6,
   "metadata": {},
   "outputs": [
    {
     "data": {
      "text/plain": [
       "['GDPg',\n",
       " 'FDINI',\n",
       " 'NFA',\n",
       " 'GCaFg',\n",
       " 'PPg',\n",
       " 'PP1519f',\n",
       " 'Lab1524f',\n",
       " 'RFtoMlabpartcp']"
      ]
     },
     "execution_count": 6,
     "metadata": {},
     "output_type": "execute_result"
    }
   ],
   "source": [
    "SCol"
   ]
  },
  {
   "cell_type": "markdown",
   "metadata": {},
   "source": [
    "## Notice here, even a simplified table will take a long chunk of code to extract values and plot, This is quite low efficient. For simplicity reason, only this customized graph is shown. The rest carries out a similar procedure."
   ]
  },
  {
   "cell_type": "code",
   "execution_count": 9,
   "metadata": {},
   "outputs": [
    {
     "name": "stdout",
     "output_type": "stream",
     "text": [
      "+----------------+\n",
      "|        avg(GDP)|\n",
      "+----------------+\n",
      "|16110130468.9855|\n",
      "+----------------+\n",
      "\n",
      "[Row(avg(GDP)=Decimal('16110130468.9855'))]\n",
      "Row(avg(GDP)=Decimal('16110130468.9855'))\n",
      "16110130468.9855\n"
     ]
    }
   ],
   "source": [
    "# For integer type features, you may want to replace the null value the average of that feature.\n",
    "# Let's see how that's done using balance as an example.\n",
    "from pyspark.sql.functions import mean\n",
    "\n",
    "# Let's find the average. But the problem is, how do we get that information out of the DataFrame?\n",
    "mean_GDPGrowth = df1990.select(mean('GDP')).show()\n",
    "\n",
    "# We can use collect to return the DataFrame as a Python list. But this still doesn't look correct. \n",
    "# How do we remove all the outer layers and simply extract the value?\n",
    "mean_GDPGrowth = df1990.select(mean('GDP')).collect()\n",
    "print(mean_GDPGrowth)\n",
    "\n",
    "# In this case, we'll need to use indexes. As it's a list, each piece of data has a unique place.\n",
    "# If we look at the first place (0), you see that the outer brackets are stripped.\n",
    "mean_GDPGrowth = mean_GDPGrowth[0]\n",
    "print(mean_GDPGrowth)\n",
    "\n",
    "# If we refer to the index again, the rest of outer information is stripped and we're finally left with the raw value!\n",
    "mean_GDPGrowth = mean_GDPGrowth[0]\n",
    "print(mean_GDPGrowth)"
   ]
  },
  {
   "cell_type": "code",
   "execution_count": 11,
   "metadata": {},
   "outputs": [
    {
     "name": "stdout",
     "output_type": "stream",
     "text": [
      "[1.7082382395735294, 3.665534550054053, 4.906161520402597, 3.242358206766234, 5.491702315077919, 5.210858902168832, 4.596221347506493, 4.8423522012337665, 4.228381421307692, 3.4586620180512817, 3.1347140908974347, 3.8802650334813085] [1990, 2000, 2008, 2009, 2010, 2011, 2012, 2013, 2014, 2015, 2016, 2017]\n"
     ]
    },
    {
     "data": {
      "image/png": "[encoded data removed]",
      "text/plain": [
       "<Figure size 432x288 with 1 Axes>"
      ]
     },
     "metadata": {},
     "output_type": "display_data"
    }
   ],
   "source": [
    "#Set the variable for pictures \n",
    "from pyspark.sql.functions import mean\n",
    "import pandas as pd\n",
    "import numpy as np\n",
    "import matplotlib.pyplot as plt\n",
    "year = [1990, 2000, 2008, 2009, 2010, 2011, 2012, 2013, 2014, 2015, 2016, 2017]\n",
    "mean_GDPGrowth = [0]*12\n",
    "\n",
    "Temp = df1990.select(mean('GDPg')).collect()\n",
    "Temp = Temp[0]\n",
    "Temp = Temp[0]\n",
    "mean_GDPGrowth[0]=Temp\n",
    "Temp = df2000.select(mean('GDPg')).collect()\n",
    "Temp = Temp[0]\n",
    "Temp = Temp[0]\n",
    "mean_GDPGrowth[1]=Temp\n",
    "Temp = df2008.select(mean('GDPg')).collect()\n",
    "Temp = Temp[0]\n",
    "Temp = Temp[0]\n",
    "mean_GDPGrowth[2]=Temp\n",
    "Temp = df2009.select(mean('GDPg')).collect()\n",
    "Temp = Temp[0]\n",
    "Temp = Temp[0]\n",
    "mean_GDPGrowth[3]=Temp\n",
    "Temp = df2010.select(mean('GDPg')).collect()\n",
    "Temp = Temp[0]\n",
    "Temp = Temp[0]\n",
    "mean_GDPGrowth[4]=Temp\n",
    "Temp = df2011.select(mean('GDPg')).collect()\n",
    "Temp = Temp[0]\n",
    "Temp = Temp[0]\n",
    "mean_GDPGrowth[5]=Temp\n",
    "Temp = df2012.select(mean('GDPg')).collect()\n",
    "Temp = Temp[0]\n",
    "Temp = Temp[0]\n",
    "mean_GDPGrowth[6]=Temp\n",
    "Temp = df2013.select(mean('GDPg')).collect()\n",
    "Temp = Temp[0]\n",
    "Temp = Temp[0]\n",
    "mean_GDPGrowth[7]=Temp\n",
    "Temp = df2014.select(mean('GDPg')).collect()\n",
    "Temp = Temp[0]\n",
    "Temp = Temp[0]\n",
    "mean_GDPGrowth[8]=Temp\n",
    "Temp = df2015.select(mean('GDPg')).collect()\n",
    "Temp = Temp[0]\n",
    "Temp = Temp[0]\n",
    "mean_GDPGrowth[9]=Temp\n",
    "Temp = df2016.select(mean('GDPg')).collect()\n",
    "Temp = Temp[0]\n",
    "Temp = Temp[0]\n",
    "mean_GDPGrowth[10]=Temp\n",
    "Temp = df2017.select(mean('GDPg')).collect()\n",
    "Temp = Temp[0]\n",
    "Temp = Temp[0]\n",
    "mean_GDPGrowth[11]=Temp\n",
    "plt.plot(year, mean_GDPGrowth, color = \"blue\")\n",
    "print(mean_GDPGrowth, year)\n"
   ]
  },
  {
   "cell_type": "code",
   "execution_count": 12,
   "metadata": {},
   "outputs": [
    {
     "name": "stdout",
     "output_type": "stream",
     "text": [
      "[-0.7397025178676472, 1.4358459333378382, 2.6069160500909083, 1.267527959194805, 3.2693199926103897, 3.170189395727272, 2.756122948999999, 2.5988592684415583, 2.178642938897435, 1.5036690417307692, 1.0547129821794867, 1.6671704151851954] [1990, 2000, 2008, 2009, 2010, 2011, 2012, 2013, 2014, 2015, 2016, 2017]\n"
     ]
    },
    {
     "data": {
      "text/plain": [
       "[<matplotlib.lines.Line2D at 0x7fe0285589e8>]"
      ]
     },
     "execution_count": 12,
     "metadata": {},
     "output_type": "execute_result"
    },
    {
     "data": {
      "image/png": "[encoded data removed]",
      "text/plain": [
       "<Figure size 432x288 with 1 Axes>"
      ]
     },
     "metadata": {},
     "output_type": "display_data"
    }
   ],
   "source": [
    "\n",
    "mean_GDPGperCapita = [0]*12\n",
    "\n",
    "Temp = df1990.select(mean('GDPpcg')).collect()\n",
    "Temp = Temp[0]\n",
    "Temp = Temp[0]\n",
    "mean_GDPGperCapita[0]=Temp\n",
    "Temp = df2000.select(mean('GDPpcg')).collect()\n",
    "Temp = Temp[0]\n",
    "Temp = Temp[0]\n",
    "mean_GDPGperCapita[1]=Temp\n",
    "Temp = df2008.select(mean('GDPpcg')).collect()\n",
    "Temp = Temp[0]\n",
    "Temp = Temp[0]\n",
    "mean_GDPGperCapita[2]=Temp\n",
    "Temp = df2009.select(mean('GDPpcg')).collect()\n",
    "Temp = Temp[0]\n",
    "Temp = Temp[0]\n",
    "mean_GDPGperCapita[3]=Temp\n",
    "Temp = df2010.select(mean('GDPpcg')).collect()\n",
    "Temp = Temp[0]\n",
    "Temp = Temp[0]\n",
    "mean_GDPGperCapita[4]=Temp\n",
    "Temp = df2011.select(mean('GDPpcg')).collect()\n",
    "Temp = Temp[0]\n",
    "Temp = Temp[0]\n",
    "mean_GDPGperCapita[5]=Temp\n",
    "Temp = df2012.select(mean('GDPpcg')).collect()\n",
    "Temp = Temp[0]\n",
    "Temp = Temp[0]\n",
    "mean_GDPGperCapita[6]=Temp\n",
    "Temp = df2013.select(mean('GDPpcg')).collect()\n",
    "Temp = Temp[0]\n",
    "Temp = Temp[0]\n",
    "mean_GDPGperCapita[7]=Temp\n",
    "Temp = df2014.select(mean('GDPpcg')).collect()\n",
    "Temp = Temp[0]\n",
    "Temp = Temp[0]\n",
    "mean_GDPGperCapita[8]=Temp\n",
    "Temp = df2015.select(mean('GDPpcg')).collect()\n",
    "Temp = Temp[0]\n",
    "Temp = Temp[0]\n",
    "mean_GDPGperCapita[9]=Temp\n",
    "Temp = df2016.select(mean('GDPpcg')).collect()\n",
    "Temp = Temp[0]\n",
    "Temp = Temp[0]\n",
    "mean_GDPGperCapita[10]=Temp\n",
    "Temp = df2017.select(mean('GDPpcg')).collect()\n",
    "Temp = Temp[0]\n",
    "Temp = Temp[0]\n",
    "mean_GDPGperCapita[11]=Temp\n",
    "\n",
    "print(mean_GDPGperCapita, year)\n",
    "plt.plot(year, mean_GDPGperCapita, color = \"red\")"
   ]
  },
  {
   "cell_type": "code",
   "execution_count": 13,
   "metadata": {},
   "outputs": [
    {
     "name": "stdout",
     "output_type": "stream",
     "text": [
      "+--------------------+------------+----------------+\n",
      "|                  CN|        GDPg|             PPg|\n",
      "+--------------------+------------+----------------+\n",
      "|Leastdevelopedcou...| 5.264221626|     2.358415027|\n",
      "|          Bangladesh| 7.284208377|     1.048898039|\n",
      "|               Benin| 5.584195081|     2.752297619|\n",
      "|              Bhutan| 6.818777705|     1.226520086|\n",
      "|         BurkinaFaso| 6.742653542|     2.891066437|\n",
      "|            Cambodia| 6.814723618|     1.529902453|\n",
      "|         CotedIvoire| 7.797005627|      2.49574384|\n",
      "|             Eritrea|5.6531822202|1.87245523153333|\n",
      "|            Ethiopia| 10.24581085|     2.463699254|\n",
      "|               Ghana| 8.507156219|      2.19818485|\n",
      "|              Guinea| 12.70155339|     2.558581179|\n",
      "|        GuineaBissau|  5.91897567|     2.479606809|\n",
      "|               India| 6.624227116|      1.12707106|\n",
      "|           Indonesia| 5.067680274|     1.095377765|\n",
      "|              LaoPDR| 6.892747966|     1.465996287|\n",
      "|             Lesotho| 5.590876671|     1.330510302|\n",
      "|                Mali|         5.3|     2.995246713|\n",
      "|            Mongolia|  5.88462458|     1.581178092|\n",
      "|             Myanmar| 6.368840526|     0.913623972|\n",
      "|               Nepal| 7.499402289|     1.105653169|\n",
      "+--------------------+------------+----------------+\n",
      "only showing top 20 rows\n",
      "\n",
      "+--------------------+----------------+----------------+\n",
      "|                  CN|            GDPg|             PPg|\n",
      "+--------------------+----------------+----------------+\n",
      "|Leastdevelopedcou...|     5.264221626|     2.358415027|\n",
      "|               Benin|     5.584195081|     2.752297619|\n",
      "|              Bhutan|     6.818777705|     1.226520086|\n",
      "|         BurkinaFaso|     6.742653542|     2.891066437|\n",
      "|            Cambodia|     6.814723618|     1.529902453|\n",
      "|             Eritrea|    5.6531822202|1.87245523153333|\n",
      "|        GuineaBissau|      5.91897567|     2.479606809|\n",
      "|               India|     6.624227116|      1.12707106|\n",
      "|           Indonesia|     5.067680274|     1.095377765|\n",
      "|              LaoPDR|     6.892747966|     1.465996287|\n",
      "|             Lesotho|     5.590876671|     1.330510302|\n",
      "|                Mali|             5.3|     2.995246713|\n",
      "|            Mongolia|      5.88462458|     1.581178092|\n",
      "|             Myanmar|     6.368840526|     0.913623972|\n",
      "|            Pakistan|     5.700621241|     1.954080197|\n",
      "|         Philippines|     6.684517503|      1.53468336|\n",
      "|              Rwanda|     6.100594048|      2.41162334|\n",
      "|             Senegal|      6.78708045|     2.808389152|\n",
      "|  SyrianArabRepublic|5.08533844856522|    -0.875120546|\n",
      "|                Togo|     5.565791042|     2.484146896|\n",
      "+--------------------+----------------+----------------+\n",
      "only showing top 20 rows\n",
      "\n"
     ]
    }
   ],
   "source": [
    "#select condition and showing the corresponding values in 2017\n",
    "df2017.filter(\"GDPg>5\").select('CN','GDPg','PPg').show()\n",
    "df2017.filter(\"GDPg>5 AND GDPg<7\").select('CN','GDPg','PPg').show()"
   ]
  },
  {
   "cell_type": "markdown",
   "metadata": {},
   "source": [
    "# 3 data preparation"
   ]
  },
  {
   "cell_type": "code",
   "execution_count": 14,
   "metadata": {},
   "outputs": [
    {
     "name": "stdout",
     "output_type": "stream",
     "text": [
      "+--------------+------------+-----------+----------+------------+-----------+-----------+-----------+--------------+\n",
      "|            CN|        GDPg|      FDINI|       NFA|       GCaFg|        PPg|    PP1519f|   Lab1524f|RFtoMlabpartcp|\n",
      "+--------------+------------+-----------+----------+------------+-----------+-----------+-----------+--------------+\n",
      "|    Bangladesh| 5.622258162|3238781.189|   -4.85E8| 5.515409575|2.468723727|10.76134696|21.05699921|   26.19077386|\n",
      "|         Benin| 8.976134361|     6.24E7|    1.15E8| 46.21352657|3.235058983| 10.0421574|55.06999969|   64.26234408|\n",
      "|       Bolivia|  4.63578591|     2.72E7|  -2.056E8| 17.68421642|1.961844428|10.44781489|46.74700165|    68.2768815|\n",
      "|      Cameroon|-6.105697646|    -1.13E8|   -6.28E8| 1.544851172|2.972041707|10.09083784| 57.8769989|   84.86490141|\n",
      "|       Comoros| 5.091392685|393003.1038|   -1.86E7| 13.76614065|2.949330295|10.19433561| 18.5359993|   58.37618852|\n",
      "|      CongoRep| 1.000003567|     2.26E7|   -2.93E8| 14.74005482|2.718451095|10.71209035|46.33800125|   92.28987608|\n",
      "|  EgyptArabRep|  5.70174926|     7.34E8|1.35595E10|-0.633687414|2.478802672|9.577463242|20.40200043|   29.44195271|\n",
      "|      Honduras| 0.096880396|     4.35E7|   -1.61E8| 3.239288925|2.890656373|10.90983084|38.85900116|   48.38843499|\n",
      "|         India| 5.533454563|   2.3669E8|   -7.61E9| 18.68929083|2.074320724|10.05952104| 30.0189991|   41.54674372|\n",
      "|     Indonesia| 7.242131639|    1.093E9|  -2.232E9| 103.2687365|1.781456519|10.86228164|38.49499893|   54.07584037|\n",
      "|         Kenya| 4.192050974|     5.71E7|   -5.25E8|-6.994896464| 3.34331631|11.03878894|57.59799957|   90.83100031|\n",
      "|       Lesotho|  6.04547333|     1.71E7|    2.28E8| 28.02754694| 1.75579046|10.44617004|64.13999939|   82.15361541|\n",
      "|    Madagascar| 3.130029428|     2.24E7|   -2.65E8| 28.00466158|2.886200258|10.71518172|74.48999786|   94.57457356|\n",
      "|    Mauritania|-1.771304534|6736220.521|   -6.08E7| 5.627719388| 2.70149748|10.64400812|32.29800034|   39.80542767|\n",
      "|       Morocco| 3.411812226|     1.65E8|   -1.92E8| 1.740175504|1.857830159|10.62605686|24.85300064|   30.45859253|\n",
      "|       Nigeria| 12.76600917|     5.88E8|    5.22E9| 40.32398526|2.579037234|10.29703732|36.56499863|   72.78332276|\n",
      "|      Pakistan| 4.458586815|     2.45E8|   -1.76E9|  5.14404803|2.911748701|10.07315852|13.78299999|   16.60603634|\n",
      "|PapuaNewGuinea| -3.01216922|     1.55E8|   -1.33E8| 0.624115342|2.521758668|10.70069145|62.42100143|     95.779174|\n",
      "|   Philippines| 3.036966294|      5.3E8|   -2.11E9| 15.83350077|2.543035489|10.55004832|35.50799942|    59.9415578|\n",
      "|       Senegal| -0.67563815|     5.69E7|   -2.02E8| 27.05328432|3.050675841|10.63748206|29.74099922|   44.62256407|\n",
      "+--------------+------------+-----------+----------+------------+-----------+-----------+-----------+--------------+\n",
      "only showing top 20 rows\n",
      "\n"
     ]
    }
   ],
   "source": [
    "# 'na' stands for Not Available. Using na, we can then use drop. \n",
    "# After using show, you'll find that the rows with the null values are gone. \n",
    "# After two-staged  \n",
    "df1990cl = df1990.na.drop()\n",
    "df1990cl.select('CN','GDPg','FDINI','NFA', 'GCaFg','PPg', 'PP1519f', 'Lab1524f', 'RFtoMlabpartcp').show()\n",
    "df2000cl = df2000.na.drop()\n",
    "df2008cl = df2008.na.drop()\n",
    "df2009cl = df2009.na.drop()\n",
    "df2010cl = df2010.na.drop()\n",
    "df2011cl = df2011.na.drop()\n",
    "df2012cl = df2012.na.drop()\n",
    "df2013cl = df2013.na.drop()\n",
    "df2014cl = df2014.na.drop()\n",
    "df2015cl = df2015.na.drop()\n",
    "df2016cl = df2016.na.drop()\n",
    "df2017cl = df2017.na.drop()"
   ]
  },
  {
   "cell_type": "code",
   "execution_count": 15,
   "metadata": {},
   "outputs": [
    {
     "name": "stdout",
     "output_type": "stream",
     "text": [
      "+------------------+----+\n",
      "|                CN|GDPg|\n",
      "+------------------+----+\n",
      "|       Afghanistan|null|\n",
      "|          Cambodia|null|\n",
      "|          Djibouti|null|\n",
      "|           Eritrea|null|\n",
      "|             Haiti|null|\n",
      "|KoreaDemPeoplesRep|null|\n",
      "|            Kosovo|null|\n",
      "|           Moldova|null|\n",
      "|SaoTomeandPrincipe|null|\n",
      "|    SolomonIslands|null|\n",
      "|        SouthSudan|null|\n",
      "|        TimorLeste|null|\n",
      "|   WestBankandGaza|null|\n",
      "|          YemenRep|null|\n",
      "+------------------+----+\n",
      "\n",
      "+---+----+\n",
      "| CN|GDPg|\n",
      "+---+----+\n",
      "+---+----+\n",
      "\n"
     ]
    }
   ],
   "source": [
    "#We only care about the value in GDPg, so we check which country has no GDPg\n",
    "import pandas as pd\n",
    "from pyspark.sql.functions import col\n",
    "df1990.where(col('GDPg').isNull()).select('CN','GDPg').show()\n",
    "df1990cl.where(col('GDPg').isNull()).select('CN','GDPg').show()\n",
    "#Good, everything has been removed"
   ]
  },
  {
   "cell_type": "code",
   "execution_count": 16,
   "metadata": {},
   "outputs": [
    {
     "name": "stdout",
     "output_type": "stream",
     "text": [
      "+--------------+------------+-----------+----------+------------+------------+------------+------------+------------+------------+------------+-----------+-----------+-----------+-----------+-----------+-----------+-----------+-----------+-----------+-----------+-----------+-----------+---------+-----------+-----------+-----------+-----------+-----------+-----------+-----------+---------+--------------+\n",
      "|            CN|         GDP|      FDINI|       NFA|        GDPg|      GDPpcg|       GCaFg|        Ind1|        ind2|         Ser|      ExGSgp|     ADRold|    ADRyoun|        PPg|        PPf|        PPm|    PP1519f|    PP1519m|    PP2024f|    PP2024m|    PP2529m|    PP2529f|  PP65above|PP65afnum|     PP65af|    PP1564m|    PP1564f|   Lab1524f|   Lab1524m| Lab1524tot|       Labf|   Labtot|RFtoMlabpartcp|\n",
      "+--------------+------------+-----------+----------+------------+------------+------------+------------+------------+------------+------------+-----------+-----------+-----------+-----------+-----------+-----------+-----------+-----------+-----------+-----------+-----------+-----------+---------+-----------+-----------+-----------+-----------+-----------+-----------+-----------+---------+--------------+\n",
      "|    Bangladesh| 31600000000|3238781.189|   -4.85E8| 5.622258162| 3.046659431| 5.515409575| 7.297530482| 7.856263908| 3.151218209| 17.78642763|5.725043478|77.61287149|2.468723727|48.89193427|51.10806573|10.76134696|10.79699102|9.866258862|9.698331684|8.172032989|8.202869916| 3.12267295|  1579009|3.041370317|54.60959482| 54.4756225|21.05699921|78.92299652| 50.5379982|19.95408757| 34585841|   26.19077386|\n",
      "|         Benin|  1960000000|     6.24E7|    1.15E8| 8.976134361| 5.507107214| 46.21352657| 8.199613789| 8.717540513| 14.36940774|  74.9422708|7.432200043|90.74876119|3.235058983|51.31976791|48.68023209| 10.0421574|10.50496381|8.409561208|8.707634287|7.084306428| 6.99293802|3.750208898|   109968|4.304117225| 49.4753955|51.39186731|55.06999969|79.48699951|67.20300293| 41.7516369|  1954606|   64.26234408|\n",
      "|       Bolivia|  4870000000|     2.72E7|  -2.056E8|  4.63578591| 2.602999823| 17.68421642| 7.090054407| 7.784342688| 2.933924775| 11.06841316|8.113661195| 76.0318064|1.961844428|49.86992147|50.13007853|10.44781489|10.55605987|8.803718293|8.846274701|7.416294253|7.408510112|4.406115068|   164253|4.803838789|54.34309755|54.26635973|46.74700165| 59.2879982|53.05799866|40.74295927|  2752910|    68.2768815|\n",
      "|      Cameroon| 11200000000|    -1.13E8|   -6.28E8|-6.105697646|-8.855214691| 1.544851172|-6.800000274|-7.277459351|-8.264691869|-9.826537661|7.085001563|92.37416174|2.972041707|50.33710424|49.66289576|10.09083784|10.26591593|8.294955726|8.395688846|6.817824392|6.785587226|3.552106329|   228446|3.873868894|49.88289166|50.38491788| 57.8769989|68.36100006|63.12200165|46.77457897|  4887796|   84.86490141|\n",
      "|       Comoros|   250000000|393003.1038|   -1.86E7| 5.091392685| 2.037161478| 13.76614065| 2.253724059| 7.909600455|  5.31639991| 1.083546437|6.180351731|90.25174792|2.949330295|49.85738512|50.14261488|10.19433561|10.32337465|8.636434517|8.735573149|7.432190168|7.368477477|3.146304368|     7302|3.558271446|50.82079211|50.99360661| 18.5359993|23.02700043| 20.8010006|37.15463657|    95081|   58.37618852|\n",
      "|      CongoRep|  2800000000|     2.26E7|   -2.93E8| 1.000003567|-1.708648638| 14.74005482| 4.443183959| 6.225945241|-1.888847538|         7.0| 7.12013559|82.96644665|2.718451095|50.12827547|49.87172453|10.71209035|10.88419556|8.874849185|8.967336157|7.342319211|7.308093474|3.745732869|    49087|4.012486962|52.41053492|52.80376276|46.33800125|47.50500107|46.92399979|48.53486602|   941791|   92.28987608|\n",
      "|  EgyptArabRep| 43100000000|     7.34E8|1.35595E10|  5.70174926|  3.11381883|-0.633687414| 9.655540353| 6.789263012| 2.252083206| 7.142860844|8.271957022|75.25987565|2.478802672|49.79737064|50.20262936|9.577463242|9.859858851|8.457087085|8.532296067|7.293393367| 7.38041187|4.507096617|  1492093|5.218974631|54.25394053|54.72087519|20.40200043| 44.5909996|32.66500092|23.16710335| 15785901|   29.44195271|\n",
      "|      Honduras|  3050000000|     4.35E7|   -1.61E8| 0.096880396|-2.755156571| 3.239288925| -0.87950764| 0.710226892|-0.877572181| 0.491098809|6.637568024|90.38373074|2.890656373|50.33146128|49.66853872|10.90983084|11.04796769|9.213781379|9.145796428|7.239074613|7.497203389|3.368959633|    91371|3.663500515|50.11819246|51.38527479|38.85900116|81.31700134|59.98400116|33.66435491|  1759704|   48.38843499|\n",
      "|         India|317000000000|   2.3669E8|   -7.61E9| 5.533454563| 3.366900569| 18.68929083| 7.331093631| 4.773545514|  4.79181418|         0.0|6.572819565|65.12314526|2.074320724|48.24336516|51.75663484|10.05952104| 10.1282226|8.929679437|9.043001697|8.138858782|7.969080337|3.828173581| 16755019|3.991365026|58.36175075|58.11453833| 30.0189991|68.71299744|50.13800049|27.93764004|327612407|   41.54674372|\n",
      "|     Indonesia|106000000000|    1.093E9|  -2.232E9| 7.242131639| 5.348576204| 103.2687365|  9.89024274| 12.49615979| 7.263731688| 0.451046177|6.330799891|60.94491878|1.781456519|49.78085485|50.21914515|10.86228164|11.09967234|9.855829116|10.03764508|8.722392328|8.545090105|3.784649644|  3717898|4.116325228|59.55842037|60.00661664|38.49499893|62.93299866|50.88999939|35.29479899| 72987003|   54.07584037|\n",
      "|         Kenya|  8570000000|     5.71E7|   -5.25E8| 4.192050974| 0.766169279|-6.994896464| 4.665249185| 5.234097774| 4.476667105| 22.54041964|5.600462701|101.4586014| 3.34331631| 50.2222753| 49.7777247|11.03878894|11.11703711|8.822036211|8.789124987|7.032366154|7.153658389|2.704765776|   325803|2.772019335|47.88128184|48.70581156|57.59799957|57.36100006|57.47999954|48.28869346|  8811367|   90.83100031|\n",
      "|       Lesotho|   596000000|     1.71E7|    2.28E8|  6.04547333| 4.199787628| 28.02754694| 17.92017995| 9.386735188| 5.409453087|-1.104816755|8.158349668|85.20227702| 1.75579046|51.69866609|48.30133391|10.44617004|11.81701307|8.680640559|9.650300366| 6.79534078|6.997478332|4.219240395|    39855|4.806364589|50.31288643|53.02859458|64.13999939|76.97499847|70.70999908|48.54490651|   678788|   82.15361541|\n",
      "|    Madagascar|  3080000000|     2.24E7|   -2.65E8| 3.130029428| 0.196034408| 28.00466158|-0.617581618|-1.736925997| 4.020768331| -9.02995078|5.884153223|88.62202626|2.886200258|50.07064186|49.92935814|10.71518172|10.72236334|8.905578753|8.868079287|7.332748531|7.428923583|3.025175467|   164758|2.836978351|51.03242372|51.79103221|74.48999786| 75.7009964|75.09400177| 48.8516779|  5470068|   94.57457356|\n",
      "|    Mauritania|  1020000000|6736220.521|   -6.08E7|-1.771304534|-4.389426787| 5.627719388|-6.695214816|-8.396181863|-1.792558892|-10.97096955|5.963255516|85.83097386| 2.70149748|50.14173823|49.85826177|10.64400812|11.03963849|8.915637559|9.195631685|7.570751968|7.399948721| 3.10919444|    35103|3.448391036|51.59524125| 52.6802318|32.29800034|60.25699997|46.47499847|29.24417542|   585149|   39.80542767|\n",
      "|       Morocco| 30200000000|     1.65E8|   -1.92E8| 3.411812226|   1.4952336| 1.740175504| 8.015100191| 6.938872876| 3.394324227| 17.19415383|6.951829082|70.37786364|1.857830159|50.10673605|49.89326395|10.62605686|11.04516149|9.603509352|9.876500543|8.694877391|8.487139543|3.920284852|   530025|4.251723872|55.82404268|56.95780243|24.85300064|63.01300049|44.21300125|23.96285061|  7668712|   30.45859253|\n",
      "|       Nigeria| 30800000000|     5.88E8|    5.22E9| 12.76600917| 9.894914253| 40.32398526| 19.28572248| 0.338968079| 9.556861686|-4.445080121|5.520911074|86.24068602|2.579037234|49.69153822|50.30846178|10.29703732|10.42994029|8.387412111|8.396808479|7.047832241|7.064040434|2.879049381|  1492969| 3.15364093|51.91656218| 52.3824805|36.56499863|43.07300186|39.85100174|42.27123751| 29591445|   72.78332276|\n",
      "|      Pakistan| 40000000000|     2.45E8|   -1.76E9| 4.458586815| 1.460870053|  5.14404803| 6.429863505| 5.724040525| 4.478169307| 1.124973794|7.350178554|81.01304051|2.911748701|48.16576756|51.83423244|10.07315852|9.922281499|8.794296354|8.651820397|7.473971627|7.608266962|3.902130464|  1888950|3.642105622|53.21528335|52.95292638|13.78299999| 70.5490036|42.98500061|13.21344023| 31130954|   16.60603634|\n",
      "|PapuaNewGuinea|  3220000000|     1.55E8|   -1.33E8| -3.01216922|-5.427387275| 0.624115342|-2.484965618|-22.77266634|-7.434662873|-4.565554001|5.331646804|76.33914562|2.521758668|49.14360067|50.85639933|10.70069145|10.87525405|9.107837735|9.193532063|7.812156651|7.785696493|2.934784801|    72293|3.410703569|55.02269012|55.06724879|62.42100143| 59.6609993|61.00799942| 48.4885105|  1813873|     95.779174|\n",
      "|   Philippines| 44300000000|      5.3E8|   -2.11E9| 3.036966294| 0.449736194| 15.83350077| 2.557640216| 2.664218101| 4.199918045| 1.859384343| 5.61883248| 73.2117697|2.543035489|49.48525152|50.51474848|10.55004832|10.78982904|9.360319386|9.541748987|8.354335141|8.240879617|3.141985998|  1119492|3.651930768|55.94016581|55.89708339|35.50799942|56.54199982|46.24300003|37.37837188| 22741143|    59.9415578|\n",
      "|       Senegal|  5720000000|     5.69E7|   -2.02E8| -0.67563815|-3.659950173| 27.05328432| 2.694281263| 1.338693186|  1.06369889|  -4.5446998|5.908206519|93.80164973|3.050675841|50.22350262|49.77649738|10.63748206|10.84742275|8.492434833|8.540727125|6.722608638|6.847243323|2.958395059|   122160|3.219231058|49.66857852|50.47317373|29.74099922|63.43399811|     46.625|31.58422767|  2152986|   44.62256407|\n",
      "+--------------+------------+-----------+----------+------------+------------+------------+------------+------------+------------+------------+-----------+-----------+-----------+-----------+-----------+-----------+-----------+-----------+-----------+-----------+-----------+-----------+---------+-----------+-----------+-----------+-----------+-----------+-----------+-----------+---------+--------------+\n",
      "only showing top 20 rows\n",
      "\n",
      "Total data points: 26\n"
     ]
    }
   ],
   "source": [
    "dropped_df = df1990.na.drop()\n",
    "dropped_df.show()\n",
    "print(\"Total data points:\", dropped_df.count())\n",
    "#Opps! Only 26 left. We delete too many observations."
   ]
  },
  {
   "cell_type": "code",
   "execution_count": 17,
   "metadata": {},
   "outputs": [
    {
     "name": "stdout",
     "output_type": "stream",
     "text": [
      "+--------------+------------+-----------+----------+\n",
      "|            CN|         GDP|      FDINI|       NFA|\n",
      "+--------------+------------+-----------+----------+\n",
      "|    Bangladesh| 31600000000|3238781.189|   -4.85E8|\n",
      "|         Benin|  1960000000|     6.24E7|    1.15E8|\n",
      "|       Bolivia|  4870000000|     2.72E7|  -2.056E8|\n",
      "|      Cameroon| 11200000000|    -1.13E8|   -6.28E8|\n",
      "|       Comoros|   250000000|393003.1038|   -1.86E7|\n",
      "|      CongoRep|  2800000000|     2.26E7|   -2.93E8|\n",
      "|  EgyptArabRep| 43100000000|     7.34E8|1.35595E10|\n",
      "|      Honduras|  3050000000|     4.35E7|   -1.61E8|\n",
      "|         India|317000000000|   2.3669E8|   -7.61E9|\n",
      "|     Indonesia|106000000000|    1.093E9|  -2.232E9|\n",
      "|         Kenya|  8570000000|     5.71E7|   -5.25E8|\n",
      "|       Lesotho|   596000000|     1.71E7|    2.28E8|\n",
      "|    Madagascar|  3080000000|     2.24E7|   -2.65E8|\n",
      "|    Mauritania|  1020000000|6736220.521|   -6.08E7|\n",
      "|       Morocco| 30200000000|     1.65E8|   -1.92E8|\n",
      "|       Nigeria| 30800000000|     5.88E8|    5.22E9|\n",
      "|      Pakistan| 40000000000|     2.45E8|   -1.76E9|\n",
      "|PapuaNewGuinea|  3220000000|     1.55E8|   -1.33E8|\n",
      "|   Philippines| 44300000000|      5.3E8|   -2.11E9|\n",
      "|       Senegal|  5720000000|     5.69E7|   -2.02E8|\n",
      "+--------------+------------+-----------+----------+\n",
      "only showing top 20 rows\n",
      "\n"
     ]
    }
   ],
   "source": [
    "#better than first time in data cleaning \n",
    "#But still there is only 26 observation left. Too many rows have been droped.\n",
    "df1990clf4=df1990cl.select(df1990cl.columns[:4])\n",
    "df1990clf4.show()"
   ]
  },
  {
   "cell_type": "code",
   "execution_count": 18,
   "metadata": {},
   "outputs": [
    {
     "name": "stdout",
     "output_type": "stream",
     "text": [
      "+--------------------+-------+\n",
      "|                  CN|    GDP|\n",
      "+--------------------+-------+\n",
      "|Leastdevelopedcou...|1.06E12|\n",
      "|         Afghanistan|2.08E10|\n",
      "|              Angola|1.24E11|\n",
      "|          Bangladesh| 2.5E11|\n",
      "|               Benin| 9.27E9|\n",
      "|              Bhutan| 2.51E9|\n",
      "|             Bolivia|3.75E10|\n",
      "|         BurkinaFaso|1.29E10|\n",
      "|             Burundi| 3.48E9|\n",
      "|           CaboVerde| 1.75E9|\n",
      "|            Cambodia|2.22E10|\n",
      "|            Cameroon|3.48E10|\n",
      "|CentralAfricanRep...| 1.95E9|\n",
      "|                Chad| 9.98E9|\n",
      "|             Comoros| 6.49E8|\n",
      "|         CongoDemRep|3.72E10|\n",
      "|            CongoRep| 8.72E9|\n",
      "|         CotedIvoire|4.04E10|\n",
      "|            Djibouti| 1.84E9|\n",
      "|        EgyptArabRep|2.35E11|\n",
      "+--------------------+-------+\n",
      "only showing top 20 rows\n",
      "\n",
      "Total data points: 81\n"
     ]
    }
   ],
   "source": [
    "df2017clp = df2017.na.drop(subset=\"GDP\")\n",
    "df2017clp.select(\"CN\",\"GDP\").show()\n",
    "print(\"Total data points:\", df2017clp.count())\n",
    "#this looks okay, we have 69 obs remains\n",
    "#Seems okay"
   ]
  },
  {
   "cell_type": "code",
   "execution_count": 19,
   "metadata": {},
   "outputs": [
    {
     "name": "stdout",
     "output_type": "stream",
     "text": [
      "+--------------------+\n",
      "|            avg(GDP)|\n",
      "+--------------------+\n",
      "|9.940808289334152E10|\n",
      "+--------------------+\n",
      "\n",
      "[Row(avg(GDP)=99408082893.34152)]\n",
      "Row(avg(GDP)=99408082893.34152)\n",
      "99408082893.34152\n"
     ]
    }
   ],
   "source": [
    "# For integer type features, you may want to replace the null value the average of that feature.\n",
    "# Let's see how that's done using balance as an example.\n",
    "from pyspark.sql.functions import mean\n",
    "\n",
    "# Let's find the average. But the problem is, how do we get that information out of the DataFrame?\n",
    "mean_GDPGrowth = df2017.select(mean('GDP')).show()\n",
    "\n",
    "# We can use collect to return the DataFrame as a Python list. But this still doesn't look correct. \n",
    "# How do we remove all the outer layers and simply extract the value?\n",
    "mean_GDPGrowth = df2017.select(mean('GDP')).collect()\n",
    "print(mean_GDPGrowth)\n",
    "\n",
    "# In this case, we'll need to use indexes. As it's a list, each piece of data has a unique place.\n",
    "# If we look at the first place (0), you see that the outer brackets are stripped.\n",
    "mean_GDPGrowth = mean_GDPGrowth[0]\n",
    "print(mean_GDPGrowth)\n",
    "\n",
    "# If we refer to the index again, the rest of outer information is stripped and we're finally left with the raw value!\n",
    "mean_GDPGrowth = mean_GDPGrowth[0]\n",
    "print(mean_GDPGrowth)\n",
    "#The growth rate is bit higher"
   ]
  },
  {
   "cell_type": "markdown",
   "metadata": {},
   "source": [
    "We notice that the mean number is quite large, which is more than 16 billion. The missing countries are more likely to be small or in turmoil. Simply substitution by mean may not valid in our report. "
   ]
  },
  {
   "cell_type": "markdown",
   "metadata": {},
   "source": [
    "## Check Point: \n",
    "The filling by the scale of original data has been inappropriate for small size countries, so we may replace them by time series interpolation mentioned by in the data cleaning part."
   ]
  },
  {
   "cell_type": "markdown",
   "metadata": {},
   "source": [
    "# 6. Model\n",
    "note here the number here corresponding to the article number, not continuous"
   ]
  },
  {
   "cell_type": "code",
   "execution_count": 20,
   "metadata": {
    "scrolled": true
   },
   "outputs": [
    {
     "data": {
      "text/html": [
       "<div>\n",
       "<style scoped>\n",
       "    .dataframe tbody tr th:only-of-type {\n",
       "        vertical-align: middle;\n",
       "    }\n",
       "\n",
       "    .dataframe tbody tr th {\n",
       "        vertical-align: top;\n",
       "    }\n",
       "\n",
       "    .dataframe thead th {\n",
       "        text-align: right;\n",
       "    }\n",
       "</style>\n",
       "<table border=\"1\" class=\"dataframe\">\n",
       "  <thead>\n",
       "    <tr style=\"text-align: right;\">\n",
       "      <th></th>\n",
       "      <th>0</th>\n",
       "      <th>1</th>\n",
       "      <th>2</th>\n",
       "      <th>3</th>\n",
       "      <th>4</th>\n",
       "    </tr>\n",
       "  </thead>\n",
       "  <tbody>\n",
       "    <tr>\n",
       "      <th>summary</th>\n",
       "      <td>count</td>\n",
       "      <td>mean</td>\n",
       "      <td>stddev</td>\n",
       "      <td>min</td>\n",
       "      <td>max</td>\n",
       "    </tr>\n",
       "    <tr>\n",
       "      <th>CN</th>\n",
       "      <td>82</td>\n",
       "      <td>None</td>\n",
       "      <td>None</td>\n",
       "      <td>Afghanistan</td>\n",
       "      <td>Zimbabwe</td>\n",
       "    </tr>\n",
       "    <tr>\n",
       "      <th>GDP</th>\n",
       "      <td>81</td>\n",
       "      <td>9.940808289334152E10</td>\n",
       "      <td>3.302679982625653E11</td>\n",
       "      <td>1.96E8</td>\n",
       "      <td>2.6E12</td>\n",
       "    </tr>\n",
       "    <tr>\n",
       "      <th>FDINI</th>\n",
       "      <td>82</td>\n",
       "      <td>2.0611089699649081E9</td>\n",
       "      <td>5.447577686650863E9</td>\n",
       "      <td>-2.88844155844156E8</td>\n",
       "      <td>4.0E10</td>\n",
       "    </tr>\n",
       "    <tr>\n",
       "      <th>NFA</th>\n",
       "      <td>78</td>\n",
       "      <td>-2.0524900355911102E9</td>\n",
       "      <td>5.162405063624966E9</td>\n",
       "      <td>-3.69E10</td>\n",
       "      <td>4.32E9</td>\n",
       "    </tr>\n",
       "    <tr>\n",
       "      <th>GDPg</th>\n",
       "      <td>81</td>\n",
       "      <td>3.8802650334813085</td>\n",
       "      <td>4.145441431919174</td>\n",
       "      <td>-22.3126694592597</td>\n",
       "      <td>12.70155339</td>\n",
       "    </tr>\n",
       "    <tr>\n",
       "      <th>GDPpcg</th>\n",
       "      <td>81</td>\n",
       "      <td>1.6671704151851954</td>\n",
       "      <td>4.331828802668688</td>\n",
       "      <td>-24.2604546780909</td>\n",
       "      <td>9.854569163</td>\n",
       "    </tr>\n",
       "    <tr>\n",
       "      <th>GCaFg</th>\n",
       "      <td>73</td>\n",
       "      <td>10.763182845337468</td>\n",
       "      <td>25.460054054325067</td>\n",
       "      <td>-47.56783706</td>\n",
       "      <td>180.5260496</td>\n",
       "    </tr>\n",
       "    <tr>\n",
       "      <th>Ind1</th>\n",
       "      <td>79</td>\n",
       "      <td>4.725765187380819</td>\n",
       "      <td>8.306534143120675</td>\n",
       "      <td>-41.54040143</td>\n",
       "      <td>26.21289599</td>\n",
       "    </tr>\n",
       "    <tr>\n",
       "      <th>ind2</th>\n",
       "      <td>76</td>\n",
       "      <td>4.522025890898429</td>\n",
       "      <td>5.7443281854918045</td>\n",
       "      <td>-17.92454096</td>\n",
       "      <td>22.77569623</td>\n",
       "    </tr>\n",
       "    <tr>\n",
       "      <th>Ser</th>\n",
       "      <td>78</td>\n",
       "      <td>4.198438807952688</td>\n",
       "      <td>3.022841252219951</td>\n",
       "      <td>-8.01298700468831</td>\n",
       "      <td>10.1472453541039</td>\n",
       "    </tr>\n",
       "    <tr>\n",
       "      <th>ExGSgp</th>\n",
       "      <td>74</td>\n",
       "      <td>9.332717052679063</td>\n",
       "      <td>21.149495953860452</td>\n",
       "      <td>-49.9520415665844</td>\n",
       "      <td>132.468562943333</td>\n",
       "    </tr>\n",
       "    <tr>\n",
       "      <th>ADRold</th>\n",
       "      <td>81</td>\n",
       "      <td>7.20895114113251</td>\n",
       "      <td>3.4338443515939923</td>\n",
       "      <td>4.326100629</td>\n",
       "      <td>24.19239984</td>\n",
       "    </tr>\n",
       "    <tr>\n",
       "      <th>ADRyoun</th>\n",
       "      <td>81</td>\n",
       "      <td>64.39521490087242</td>\n",
       "      <td>19.416637239310653</td>\n",
       "      <td>21.44500162</td>\n",
       "      <td>106.244006</td>\n",
       "    </tr>\n",
       "    <tr>\n",
       "      <th>PPg</th>\n",
       "      <td>82</td>\n",
       "      <td>1.9655221967382106</td>\n",
       "      <td>0.9196217549232243</td>\n",
       "      <td>-0.875120546</td>\n",
       "      <td>3.817092613</td>\n",
       "    </tr>\n",
       "    <tr>\n",
       "      <th>PPf</th>\n",
       "      <td>81</td>\n",
       "      <td>50.230180940543214</td>\n",
       "      <td>0.9911663459120987</td>\n",
       "      <td>46.92618866</td>\n",
       "      <td>53.76707292</td>\n",
       "    </tr>\n",
       "    <tr>\n",
       "      <th>PPm</th>\n",
       "      <td>81</td>\n",
       "      <td>49.76981905945679</td>\n",
       "      <td>0.9911663459120987</td>\n",
       "      <td>46.23292708</td>\n",
       "      <td>53.07381134</td>\n",
       "    </tr>\n",
       "    <tr>\n",
       "      <th>PP1519f</th>\n",
       "      <td>81</td>\n",
       "      <td>9.871457370242796</td>\n",
       "      <td>1.5528920614546906</td>\n",
       "      <td>4.044262387</td>\n",
       "      <td>12.01831296</td>\n",
       "    </tr>\n",
       "    <tr>\n",
       "      <th>PP1519m</th>\n",
       "      <td>81</td>\n",
       "      <td>10.20330634011522</td>\n",
       "      <td>1.4276517390366916</td>\n",
       "      <td>4.937852787</td>\n",
       "      <td>12.16288007</td>\n",
       "    </tr>\n",
       "    <tr>\n",
       "      <th>PP2024f</th>\n",
       "      <td>81</td>\n",
       "      <td>9.02959087948971</td>\n",
       "      <td>0.9476894076620361</td>\n",
       "      <td>4.973918709</td>\n",
       "      <td>11.30527748</td>\n",
       "    </tr>\n",
       "    <tr>\n",
       "      <th>PP2024m</th>\n",
       "      <td>81</td>\n",
       "      <td>9.244572252851855</td>\n",
       "      <td>0.8801075859862509</td>\n",
       "      <td>6.046278883</td>\n",
       "      <td>11.42846579</td>\n",
       "    </tr>\n",
       "    <tr>\n",
       "      <th>PP2529m</th>\n",
       "      <td>81</td>\n",
       "      <td>8.276601903915223</td>\n",
       "      <td>0.95570380229646</td>\n",
       "      <td>5.73416648</td>\n",
       "      <td>10.54239612</td>\n",
       "    </tr>\n",
       "    <tr>\n",
       "      <th>PP2529f</th>\n",
       "      <td>81</td>\n",
       "      <td>8.185134902227984</td>\n",
       "      <td>0.8713442848553166</td>\n",
       "      <td>6.527289857</td>\n",
       "      <td>10.46698788</td>\n",
       "    </tr>\n",
       "    <tr>\n",
       "      <th>PP65above</th>\n",
       "      <td>81</td>\n",
       "      <td>4.371178618920988</td>\n",
       "      <td>2.527426362047116</td>\n",
       "      <td>2.168261462</td>\n",
       "      <td>16.46177719</td>\n",
       "    </tr>\n",
       "    <tr>\n",
       "      <th>PP65afnum</th>\n",
       "      <td>81</td>\n",
       "      <td>1497169.2979423867</td>\n",
       "      <td>5174243.338134701</td>\n",
       "      <td>2687.0</td>\n",
       "      <td>4.1921158E7</td>\n",
       "    </tr>\n",
       "    <tr>\n",
       "      <th>PP65af</th>\n",
       "      <td>81</td>\n",
       "      <td>4.882337548681481</td>\n",
       "      <td>3.069972471906964</td>\n",
       "      <td>2.244087659</td>\n",
       "      <td>20.20754255</td>\n",
       "    </tr>\n",
       "    <tr>\n",
       "      <th>PP1564m</th>\n",
       "      <td>81</td>\n",
       "      <td>58.6779739711358</td>\n",
       "      <td>6.2367589604805636</td>\n",
       "      <td>46.54091291</td>\n",
       "      <td>74.62259802</td>\n",
       "    </tr>\n",
       "    <tr>\n",
       "      <th>PP1564f</th>\n",
       "      <td>81</td>\n",
       "      <td>59.040549324872416</td>\n",
       "      <td>5.766733126300137</td>\n",
       "      <td>47.96005965</td>\n",
       "      <td>72.26569599</td>\n",
       "    </tr>\n",
       "    <tr>\n",
       "      <th>Lab1524f</th>\n",
       "      <td>79</td>\n",
       "      <td>40.859188752240534</td>\n",
       "      <td>19.230437009164074</td>\n",
       "      <td>4.721000195</td>\n",
       "      <td>77.37999725</td>\n",
       "    </tr>\n",
       "    <tr>\n",
       "      <th>Lab1524m</th>\n",
       "      <td>79</td>\n",
       "      <td>53.0376115755696</td>\n",
       "      <td>15.356122182061126</td>\n",
       "      <td>12.9119997</td>\n",
       "      <td>84.01899719</td>\n",
       "    </tr>\n",
       "    <tr>\n",
       "      <th>Lab1524tot</th>\n",
       "      <td>79</td>\n",
       "      <td>47.058995175569635</td>\n",
       "      <td>15.748997659344884</td>\n",
       "      <td>13.04800034</td>\n",
       "      <td>75.84400177</td>\n",
       "    </tr>\n",
       "    <tr>\n",
       "      <th>Labf</th>\n",
       "      <td>79</td>\n",
       "      <td>41.50616177966667</td>\n",
       "      <td>9.88689055761355</td>\n",
       "      <td>7.881696025</td>\n",
       "      <td>54.81694326</td>\n",
       "    </tr>\n",
       "    <tr>\n",
       "      <th>Labtot</th>\n",
       "      <td>79</td>\n",
       "      <td>2.4210242142616034E7</td>\n",
       "      <td>7.509610326680039E7</td>\n",
       "      <td>67889.0</td>\n",
       "      <td>5.2019413E8</td>\n",
       "    </tr>\n",
       "    <tr>\n",
       "      <th>RFtoMlabpartcp</th>\n",
       "      <td>79</td>\n",
       "      <td>72.37303424888609</td>\n",
       "      <td>23.356081995227168</td>\n",
       "      <td>8.613980022</td>\n",
       "      <td>110.645763</td>\n",
       "    </tr>\n",
       "  </tbody>\n",
       "</table>\n",
       "</div>"
      ],
      "text/plain": [
       "                    0                      1                     2  \\\n",
       "summary         count                   mean                stddev   \n",
       "CN                 82                   None                  None   \n",
       "GDP                81   9.940808289334152E10  3.302679982625653E11   \n",
       "FDINI              82   2.0611089699649081E9   5.447577686650863E9   \n",
       "NFA                78  -2.0524900355911102E9   5.162405063624966E9   \n",
       "GDPg               81     3.8802650334813085     4.145441431919174   \n",
       "GDPpcg             81     1.6671704151851954     4.331828802668688   \n",
       "GCaFg              73     10.763182845337468    25.460054054325067   \n",
       "Ind1               79      4.725765187380819     8.306534143120675   \n",
       "ind2               76      4.522025890898429    5.7443281854918045   \n",
       "Ser                78      4.198438807952688     3.022841252219951   \n",
       "ExGSgp             74      9.332717052679063    21.149495953860452   \n",
       "ADRold             81       7.20895114113251    3.4338443515939923   \n",
       "ADRyoun            81      64.39521490087242    19.416637239310653   \n",
       "PPg                82     1.9655221967382106    0.9196217549232243   \n",
       "PPf                81     50.230180940543214    0.9911663459120987   \n",
       "PPm                81      49.76981905945679    0.9911663459120987   \n",
       "PP1519f            81      9.871457370242796    1.5528920614546906   \n",
       "PP1519m            81      10.20330634011522    1.4276517390366916   \n",
       "PP2024f            81       9.02959087948971    0.9476894076620361   \n",
       "PP2024m            81      9.244572252851855    0.8801075859862509   \n",
       "PP2529m            81      8.276601903915223      0.95570380229646   \n",
       "PP2529f            81      8.185134902227984    0.8713442848553166   \n",
       "PP65above          81      4.371178618920988     2.527426362047116   \n",
       "PP65afnum          81     1497169.2979423867     5174243.338134701   \n",
       "PP65af             81      4.882337548681481     3.069972471906964   \n",
       "PP1564m            81       58.6779739711358    6.2367589604805636   \n",
       "PP1564f            81     59.040549324872416     5.766733126300137   \n",
       "Lab1524f           79     40.859188752240534    19.230437009164074   \n",
       "Lab1524m           79       53.0376115755696    15.356122182061126   \n",
       "Lab1524tot         79     47.058995175569635    15.748997659344884   \n",
       "Labf               79      41.50616177966667      9.88689055761355   \n",
       "Labtot             79   2.4210242142616034E7   7.509610326680039E7   \n",
       "RFtoMlabpartcp     79      72.37303424888609    23.356081995227168   \n",
       "\n",
       "                                  3                 4  \n",
       "summary                         min               max  \n",
       "CN                      Afghanistan          Zimbabwe  \n",
       "GDP                          1.96E8            2.6E12  \n",
       "FDINI           -2.88844155844156E8            4.0E10  \n",
       "NFA                        -3.69E10            4.32E9  \n",
       "GDPg              -22.3126694592597       12.70155339  \n",
       "GDPpcg            -24.2604546780909       9.854569163  \n",
       "GCaFg                  -47.56783706       180.5260496  \n",
       "Ind1                   -41.54040143       26.21289599  \n",
       "ind2                   -17.92454096       22.77569623  \n",
       "Ser               -8.01298700468831  10.1472453541039  \n",
       "ExGSgp            -49.9520415665844  132.468562943333  \n",
       "ADRold                  4.326100629       24.19239984  \n",
       "ADRyoun                 21.44500162        106.244006  \n",
       "PPg                    -0.875120546       3.817092613  \n",
       "PPf                     46.92618866       53.76707292  \n",
       "PPm                     46.23292708       53.07381134  \n",
       "PP1519f                 4.044262387       12.01831296  \n",
       "PP1519m                 4.937852787       12.16288007  \n",
       "PP2024f                 4.973918709       11.30527748  \n",
       "PP2024m                 6.046278883       11.42846579  \n",
       "PP2529m                  5.73416648       10.54239612  \n",
       "PP2529f                 6.527289857       10.46698788  \n",
       "PP65above               2.168261462       16.46177719  \n",
       "PP65afnum                    2687.0       4.1921158E7  \n",
       "PP65af                  2.244087659       20.20754255  \n",
       "PP1564m                 46.54091291       74.62259802  \n",
       "PP1564f                 47.96005965       72.26569599  \n",
       "Lab1524f                4.721000195       77.37999725  \n",
       "Lab1524m                 12.9119997       84.01899719  \n",
       "Lab1524tot              13.04800034       75.84400177  \n",
       "Labf                    7.881696025       54.81694326  \n",
       "Labtot                      67889.0       5.2019413E8  \n",
       "RFtoMlabpartcp          8.613980022        110.645763  "
      ]
     },
     "execution_count": 20,
     "metadata": {},
     "output_type": "execute_result"
    }
   ],
   "source": [
    "# Now that we understand the data's features, let's use a Python package to neatly describe the data.\n",
    "import pandas as pd\n",
    "df2017.describe().toPandas().transpose()"
   ]
  },
  {
   "cell_type": "code",
   "execution_count": 63,
   "metadata": {},
   "outputs": [],
   "source": [
    "# Import VectorAssembler and Vectors\n",
    "from pyspark.ml.feature import VectorAssembler\n",
    "\n",
    "The input columns are the feature column names, and the output column is what you'd like the new column to be named. \n",
    "vector_assembler = VectorAssembler(inputCols = ['FDINI', 'Ind1', 'Ser', 'ADRyoun', 'PPg', \n",
    "                                                'PPf', 'PP1519f', 'PP1519m', 'PP2024f', 'PP2024m', \n",
    "                                               'Lab1524f', 'Lab1524tot', 'RFtoMlabpartcp'], outputCol = 'features')\n",
    "\n",
    "##Iteration 3\n",
    "# The input columns are the feature column names, and the output column is what you'd like the new column to be named. \n",
    "#vector_assembler = VectorAssembler(inputCols = ['FDINI','PPg','Lab1524f', 'RFtoMlabpartcp'], outputCol = 'features')\n",
    "\n"
   ]
  },
  {
   "cell_type": "code",
   "execution_count": 64,
   "metadata": {},
   "outputs": [],
   "source": [
    "# Now that we've created the assembler variable, let's actually transform the data.\n",
    "vector_output = vector_assembler.transform(df1990cl)\n",
    "vector_output1 = vector_assembler.transform(df2000cl)\n",
    "vector_output2 = vector_assembler.transform(df2008cl)\n",
    "vector_output3 = vector_assembler.transform(df2009cl)\n",
    "vector_output4 = vector_assembler.transform(df2010cl)\n",
    "vector_output5 = vector_assembler.transform(df2011cl)\n",
    "vector_output6 = vector_assembler.transform(df2012cl)\n",
    "vector_output7 = vector_assembler.transform(df2013cl)\n",
    "vector_output8 = vector_assembler.transform(df2014cl)\n",
    "vector_output9 = vector_assembler.transform(df2015cl)\n",
    "vector_output10 = vector_assembler.transform(df2016cl)\n",
    "vector_output11 = vector_assembler.transform(df2017cl)"
   ]
  },
  {
   "cell_type": "code",
   "execution_count": 65,
   "metadata": {},
   "outputs": [
    {
     "name": "stdout",
     "output_type": "stream",
     "text": [
      "root\n",
      " |-- CN: string (nullable = true)\n",
      " |-- GDP: double (nullable = true)\n",
      " |-- FDINI: double (nullable = true)\n",
      " |-- NFA: double (nullable = true)\n",
      " |-- GDPg: double (nullable = true)\n",
      " |-- GDPpcg: double (nullable = true)\n",
      " |-- GCaFg: double (nullable = true)\n",
      " |-- Ind1: double (nullable = true)\n",
      " |-- ind2: double (nullable = true)\n",
      " |-- Ser: double (nullable = true)\n",
      " |-- ExGSgp: double (nullable = true)\n",
      " |-- ADRold: double (nullable = true)\n",
      " |-- ADRyoun: double (nullable = true)\n",
      " |-- PPg: double (nullable = true)\n",
      " |-- PPf: double (nullable = true)\n",
      " |-- PPm: double (nullable = true)\n",
      " |-- PP1519f: double (nullable = true)\n",
      " |-- PP1519m: double (nullable = true)\n",
      " |-- PP2024f: double (nullable = true)\n",
      " |-- PP2024m: double (nullable = true)\n",
      " |-- PP2529m: double (nullable = true)\n",
      " |-- PP2529f: double (nullable = true)\n",
      " |-- PP65above: double (nullable = true)\n",
      " |-- PP65afnum: double (nullable = true)\n",
      " |-- PP65af: double (nullable = true)\n",
      " |-- PP1564m: double (nullable = true)\n",
      " |-- PP1564f: double (nullable = true)\n",
      " |-- Lab1524f: double (nullable = true)\n",
      " |-- Lab1524m: double (nullable = true)\n",
      " |-- Lab1524tot: double (nullable = true)\n",
      " |-- Labf: double (nullable = true)\n",
      " |-- Labtot: double (nullable = true)\n",
      " |-- RFtoMlabpartcp: double (nullable = true)\n",
      "\n"
     ]
    }
   ],
   "source": [
    "df2017cl = df2017.na.drop()\n",
    "df2017cl.printSchema()"
   ]
  },
  {
   "cell_type": "code",
   "execution_count": 24,
   "metadata": {},
   "outputs": [
    {
     "name": "stdout",
     "output_type": "stream",
     "text": [
      "root\n",
      " |-- CN: string (nullable = true)\n",
      " |-- GDP: decimal(12,0) (nullable = true)\n",
      " |-- FDINI: double (nullable = true)\n",
      " |-- NFA: double (nullable = true)\n",
      " |-- GDPg: double (nullable = true)\n",
      " |-- GDPpcg: double (nullable = true)\n",
      " |-- GCaFg: double (nullable = true)\n",
      " |-- Ind1: double (nullable = true)\n",
      " |-- ind2: double (nullable = true)\n",
      " |-- Ser: double (nullable = true)\n",
      " |-- ExGSgp: double (nullable = true)\n",
      " |-- ADRold: double (nullable = true)\n",
      " |-- ADRyoun: double (nullable = true)\n",
      " |-- PPg: double (nullable = true)\n",
      " |-- PPf: double (nullable = true)\n",
      " |-- PPm: double (nullable = true)\n",
      " |-- PP1519f: double (nullable = true)\n",
      " |-- PP1519m: double (nullable = true)\n",
      " |-- PP2024f: double (nullable = true)\n",
      " |-- PP2024m: double (nullable = true)\n",
      " |-- PP2529m: double (nullable = true)\n",
      " |-- PP2529f: double (nullable = true)\n",
      " |-- PP65above: double (nullable = true)\n",
      " |-- PP65afnum: integer (nullable = true)\n",
      " |-- PP65af: double (nullable = true)\n",
      " |-- PP1564m: double (nullable = true)\n",
      " |-- PP1564f: double (nullable = true)\n",
      " |-- Lab1524f: double (nullable = true)\n",
      " |-- Lab1524m: double (nullable = true)\n",
      " |-- Lab1524tot: double (nullable = true)\n",
      " |-- Labf: double (nullable = true)\n",
      " |-- Labtot: integer (nullable = true)\n",
      " |-- RFtoMlabpartcp: double (nullable = true)\n",
      " |-- features: vector (nullable = true)\n",
      "\n"
     ]
    },
    {
     "data": {
      "text/plain": [
       "[Row(CN='Bangladesh', GDP=Decimal('31600000000'), FDINI=3238781.189, NFA=-485000000.0, GDPg=5.622258162, GDPpcg=3.046659431, GCaFg=5.515409575, Ind1=7.297530482, ind2=7.856263908, Ser=3.151218209, ExGSgp=17.78642763, ADRold=5.725043478, ADRyoun=77.61287149, PPg=2.468723727, PPf=48.89193427, PPm=51.10806573, PP1519f=10.76134696, PP1519m=10.79699102, PP2024f=9.866258862, PP2024m=9.698331684, PP2529m=8.172032989, PP2529f=8.202869916, PP65above=3.12267295, PP65afnum=1579009, PP65af=3.041370317, PP1564m=54.60959482, PP1564f=54.4756225, Lab1524f=21.05699921, Lab1524m=78.92299652, Lab1524tot=50.5379982, Labf=19.95408757, Labtot=34585841, RFtoMlabpartcp=26.19077386, features=DenseVector([3238781.189, 7.2975, 3.1512, 77.6129, 2.4687, 48.8919, 10.7613, 10.797, 9.8663, 9.6983, 21.057, 50.538, 26.1908]))]"
      ]
     },
     "execution_count": 24,
     "metadata": {},
     "output_type": "execute_result"
    }
   ],
   "source": [
    "# Using print schema, you see that the features output column has been added. \n",
    "vector_output.printSchema()\n",
    "\n",
    "# You can see that the features column is a DenseVector that combines the various features as expected.\n",
    "vector_output.head(1)"
   ]
  },
  {
   "cell_type": "code",
   "execution_count": 66,
   "metadata": {},
   "outputs": [
    {
     "name": "stdout",
     "output_type": "stream",
     "text": [
      "+--------------------+-----------+\n",
      "|            features|       GDPg|\n",
      "+--------------------+-----------+\n",
      "|[3238781.189,2.46...|5.622258162|\n",
      "|[6.24E7,3.2350589...|8.976134361|\n",
      "|[2.72E7,1.9618444...| 4.63578591|\n",
      "+--------------------+-----------+\n",
      "only showing top 3 rows\n",
      "\n"
     ]
    }
   ],
   "source": [
    "# Because the features have been combined into one vector, we no longer need them. Below we select the features and label.\n",
    "vector_output = vector_output.select(['features', 'GDPg'])\n",
    "# feature must has not include the response variable\n",
    "# You can see that the dataframe now only contains two columns. \n",
    "#print(vector_output.head(1))\n",
    "vector_output.show(3)"
   ]
  },
  {
   "cell_type": "code",
   "execution_count": 67,
   "metadata": {},
   "outputs": [
    {
     "name": "stdout",
     "output_type": "stream",
     "text": [
      "+-------+-----------------+\n",
      "|summary|             GDPg|\n",
      "+-------+-----------------+\n",
      "|  count|               20|\n",
      "|   mean|     3.8028268368|\n",
      "| stddev|6.140894664576105|\n",
      "|    min|     -6.105697646|\n",
      "|    max|      21.01800054|\n",
      "+-------+-----------------+\n",
      "\n",
      "+-------+------------------+\n",
      "|summary|              GDPg|\n",
      "+-------+------------------+\n",
      "|  count|                 6|\n",
      "|   mean|       4.907936336|\n",
      "| stddev|3.5017759738105325|\n",
      "|    min|       -0.67563815|\n",
      "|    max|       8.976134361|\n",
      "+-------+------------------+\n",
      "\n"
     ]
    }
   ],
   "source": [
    "# Let's do a randomised 70/30 split. A 70/30 particular split is choosen for conventional reason. This ratio could be changed through iterations \n",
    "split = [0.7, 0.3]\n",
    "#we apply each split seperately becasue the na occurance made each dim of the datasets not identical\n",
    "#to make things efficient, we aggregate the result by averaging the overall additions\n",
    "train_data,test_data = vector_output.randomSplit(split)\n",
    "train_data1,test_data1 = vector_output1.randomSplit(split)\n",
    "train_data2,test_data2 = vector_output2.randomSplit(split)\n",
    "train_data3,test_data3 = vector_output3.randomSplit(split)\n",
    "train_data4,test_data4 = vector_output4.randomSplit(split)\n",
    "train_data5,test_data5 = vector_output5.randomSplit(split)\n",
    "train_data6,test_data6 = vector_output6.randomSplit(split)\n",
    "train_data7,test_data7 = vector_output7.randomSplit(split)\n",
    "train_data8,test_data8 = vector_output8.randomSplit(split)\n",
    "train_data9,test_data9 = vector_output9.randomSplit(split)\n",
    "train_data10,test_data10 = vector_output10.randomSplit(split)\n",
    "train_data11,test_data11 = vector_output11.randomSplit(split)\n",
    "\n",
    "\n",
    "# Let's see our training data.\n",
    "train_data.describe().show()\n",
    "\n",
    "# And our testing data.\n",
    "test_data.describe().show()"
   ]
  },
  {
   "cell_type": "code",
   "execution_count": 68,
   "metadata": {},
   "outputs": [],
   "source": [
    "#We cannot carry out union since the number of column is differenet\n",
    "from functools import reduce  # For Python 3.x\n",
    "from pyspark.sql import DataFrame\n",
    "\n",
    "def unionAll(*dfs):\n",
    "    return reduce(DataFrame.unionAll, dfs)\n",
    "\n",
    "train = unionAll(train_data1, train_data2, train_data3, train_data4, train_data5, train_data6, train_data7, train_data8, train_data9, train_data10, train_data11)\n",
    "test = unionAll(test_data1, test_data2, test_data3, test_data4, test_data5, test_data6, test_data7, test_data8, test_data9, test_data10, test_data10)"
   ]
  },
  {
   "cell_type": "code",
   "execution_count": 69,
   "metadata": {},
   "outputs": [
    {
     "name": "stdout",
     "output_type": "stream",
     "text": [
      "(423, 34)\n",
      "(155, 34)\n"
     ]
    }
   ],
   "source": [
    "#Check the dimensions of train and test data sets\n",
    "print((train.count(), len(train.columns)))\n",
    "print((test.count(), len(test.columns)))"
   ]
  },
  {
   "cell_type": "markdown",
   "metadata": {},
   "source": [
    "## 6.1-Linear Regression with empirical variable choice\n",
    "Now we can create a Linear Regression Model instance. Because the feature column is named 'features', we don't have to worry about it. However, as the labelCol isn't the default name, we have to specify it's name (GDPg)."
   ]
  },
  {
   "cell_type": "code",
   "execution_count": 70,
   "metadata": {},
   "outputs": [
    {
     "name": "stdout",
     "output_type": "stream",
     "text": [
      "Coefficients: [7.748336759086056e-09,0.686545752490651,0.03466763045029441,-0.04804551228159447]\n",
      "Intercept: 2.6849878918576398\n",
      "\n",
      "RMSE: 5.6286070892760796\n",
      "R2: 0.11566876350792177\n"
     ]
    }
   ],
   "source": [
    "# Importing the LR package.\n",
    "from pyspark.ml.regression import LinearRegression\n",
    "\n",
    "# Instantiate the instance.\n",
    "lr = LinearRegression(featuresCol='features', labelCol='GDPg')\n",
    "\n",
    "# Fit the training data.\n",
    "lr_model = lr.fit(train_data)\n",
    "\n",
    "# Print the coefficients.\n",
    "print(\"Coefficients: \" + str(lr_model.coefficients))\n",
    "\n",
    "# Print the intercept.\n",
    "print(\"Intercept: \" + str(lr_model.intercept) + \"\\n\")\n",
    "\n",
    "# Summarise the model and print out some evaluation metrics.\n",
    "training_summary = lr_model.summary\n",
    "\n",
    "# Print RMSE. \n",
    "print(\"RMSE: \" + str(training_summary.rootMeanSquaredError))\n",
    "\n",
    "# Print R2.\n",
    "print(\"R2: \" + str(training_summary.r2))"
   ]
  },
  {
   "cell_type": "code",
   "execution_count": 30,
   "metadata": {},
   "outputs": [
    {
     "name": "stdout",
     "output_type": "stream",
     "text": [
      "+-------+------------------+\n",
      "|summary|              GDPg|\n",
      "+-------+------------------+\n",
      "|  count|                19|\n",
      "|   mean|3.5964207879473684|\n",
      "| stddev|3.9477264724744185|\n",
      "|    min|      -6.105697646|\n",
      "|    max|       8.976134361|\n",
      "+-------+------------------+\n",
      "\n"
     ]
    }
   ],
   "source": [
    "train_data.describe().show()"
   ]
  },
  {
   "cell_type": "markdown",
   "metadata": {},
   "source": [
    "RMSE measures the differences between predicted values and actual values. However, RMSE alone is meaningless until we compare with the actual \"GDP growth rate\" value, such as mean, min and max. After such comparison, our RMSE looks pretty good.\n",
    "R2 indicates that our model can explain approximately 99% of the variability in economic growth rate."
   ]
  },
  {
   "cell_type": "markdown",
   "metadata": {},
   "source": [
    "# Evaluating the Model using the Testing Set"
   ]
  },
  {
   "cell_type": "code",
   "execution_count": 71,
   "metadata": {},
   "outputs": [
    {
     "name": "stdout",
     "output_type": "stream",
     "text": [
      "RMSE on test data: 3.857386116966911\n",
      "R2 on test data: -0.4560985015638406\n"
     ]
    }
   ],
   "source": [
    "# Let's evaluate the model against the test data.\n",
    "test_results = lr_model.evaluate(test_data)\n",
    "\n",
    "# And print the RMSE/R2. As expected, our RMSE and R2 are slightly worse when applying the testing set.\n",
    "print(\"RMSE on test data: \" + str(test_results.rootMeanSquaredError))\n",
    "print(\"R2 on test data: \" + str(test_results.r2))"
   ]
  },
  {
   "cell_type": "markdown",
   "metadata": {},
   "source": [
    "# 6.2 second iteration: the Combined LM model"
   ]
  },
  {
   "cell_type": "code",
   "execution_count": 32,
   "metadata": {},
   "outputs": [
    {
     "name": "stdout",
     "output_type": "stream",
     "text": [
      "Coefficients: [3.5617459079468394e-11,0.17652109462375995,0.3206041902642964,-0.035215271093243364,0.23907220093633408,-0.5976412682403776,-0.9301702830787644,1.107359216130984,-0.1914098988256683,-0.11942591025025344,-0.015405205239715376,0.03703773014033983,0.024492408242491912]\n",
      "Intercept: 31.5601733693175\n",
      "\n",
      "RMSE: 2.810553382636335\n",
      "R2: 0.5643566775098894\n"
     ]
    }
   ],
   "source": [
    "# Importing the LR package.\n",
    "from pyspark.ml.regression import LinearRegression\n",
    "\n",
    "# Instantiate the instance.\n",
    "lr = LinearRegression(featuresCol='features', labelCol='GDPg')\n",
    "\n",
    "# Fit the training data.\n",
    "lr_model = lr.fit(train)\n",
    "\n",
    "# Print the coefficients.\n",
    "print(\"Coefficients: \" + str(lr_model.coefficients))\n",
    "\n",
    "# Print the intercept.\n",
    "print(\"Intercept: \" + str(lr_model.intercept) + \"\\n\")\n",
    "\n",
    "# Summarise the model and print out some evaluation metrics.\n",
    "training_summary = lr_model.summary\n",
    "\n",
    "# Print RMSE. \n",
    "print(\"RMSE: \" + str(training_summary.rootMeanSquaredError))\n",
    "\n",
    "# Print R2.\n",
    "print(\"R2: \" + str(training_summary.r2))"
   ]
  },
  {
   "cell_type": "code",
   "execution_count": 33,
   "metadata": {},
   "outputs": [
    {
     "name": "stdout",
     "output_type": "stream",
     "text": [
      "RMSE on test data: 2.1678803769196495\n",
      "R2 on test data: 0.671074937792032\n"
     ]
    }
   ],
   "source": [
    "# Let's evaluate the model against the test data.\n",
    "test_results = lr_model.evaluate(test)\n",
    "\n",
    "# And print the RMSE/R2. As expected, our RMSE and R2 are slightly worse when applying the testing set.\n",
    "print(\"RMSE on test data: \" + str(test_results.rootMeanSquaredError))\n",
    "print(\"R2 on test data: \" + str(test_results.r2))"
   ]
  },
  {
   "cell_type": "markdown",
   "metadata": {},
   "source": [
    "## Model 2 Decision Tree"
   ]
  },
  {
   "cell_type": "code",
   "execution_count": 34,
   "metadata": {},
   "outputs": [],
   "source": [
    "#We cannot carry out union since the number of column is differenet\n",
    "from functools import reduce  # For Python 3.x\n",
    "from pyspark.sql import DataFrame\n",
    "\n",
    "def unionAll(*dfs):\n",
    "    return reduce(DataFrame.unionAll, dfs)\n",
    "\n",
    "df = unionAll(df1990cl, df2000cl, df2008cl, df2009cl, df2010cl, df2011cl, df2012cl, df2013cl, df2014cl, df2015cl, df2016cl, df2017cl)"
   ]
  },
  {
   "cell_type": "code",
   "execution_count": 35,
   "metadata": {},
   "outputs": [],
   "source": [
    "from pyspark.ml.feature import VectorAssembler\n",
    "\n",
    "assembler = VectorAssembler(inputCols = ['FDINI', 'Ind1', 'Ser', 'ADRyoun', 'PPg', \n",
    "                                                'PPf', 'PP1519f', 'PP1519m', 'PP2024f', 'PP2024m', \n",
    "                                                'Lab1524f', 'Lab1524tot', 'RFtoMlabpartcp'], outputCol = 'features')\n",
    "output = assembler.transform(df)"
   ]
  },
  {
   "cell_type": "code",
   "execution_count": 36,
   "metadata": {},
   "outputs": [
    {
     "name": "stdout",
     "output_type": "stream",
     "text": [
      "root\n",
      " |-- CN: string (nullable = true)\n",
      " |-- GDP: double (nullable = true)\n",
      " |-- FDINI: double (nullable = true)\n",
      " |-- NFA: double (nullable = true)\n",
      " |-- GDPg: double (nullable = true)\n",
      " |-- GDPpcg: double (nullable = true)\n",
      " |-- GCaFg: double (nullable = true)\n",
      " |-- Ind1: double (nullable = true)\n",
      " |-- ind2: double (nullable = true)\n",
      " |-- Ser: double (nullable = true)\n",
      " |-- ExGSgp: double (nullable = true)\n",
      " |-- ADRold: double (nullable = true)\n",
      " |-- ADRyoun: double (nullable = true)\n",
      " |-- PPg: double (nullable = true)\n",
      " |-- PPf: double (nullable = true)\n",
      " |-- PPm: double (nullable = true)\n",
      " |-- PP1519f: double (nullable = true)\n",
      " |-- PP1519m: double (nullable = true)\n",
      " |-- PP2024f: double (nullable = true)\n",
      " |-- PP2024m: double (nullable = true)\n",
      " |-- PP2529m: double (nullable = true)\n",
      " |-- PP2529f: double (nullable = true)\n",
      " |-- PP65above: double (nullable = true)\n",
      " |-- PP65afnum: double (nullable = true)\n",
      " |-- PP65af: double (nullable = true)\n",
      " |-- PP1564m: double (nullable = true)\n",
      " |-- PP1564f: double (nullable = true)\n",
      " |-- Lab1524f: double (nullable = true)\n",
      " |-- Lab1524m: double (nullable = true)\n",
      " |-- Lab1524tot: double (nullable = true)\n",
      " |-- Labf: double (nullable = true)\n",
      " |-- Labtot: double (nullable = true)\n",
      " |-- RFtoMlabpartcp: double (nullable = true)\n",
      " |-- features: vector (nullable = true)\n",
      " |-- CNIndex: double (nullable = true)\n",
      "\n"
     ]
    }
   ],
   "source": [
    "from pyspark.ml.feature import StringIndexer\n",
    "\n",
    "indexer = StringIndexer(inputCol = 'CN', outputCol = 'CNIndex')\n",
    "outputFixed = indexer.fit(output).transform(output)\n",
    "outputFixed.printSchema()"
   ]
  },
  {
   "cell_type": "code",
   "execution_count": 37,
   "metadata": {},
   "outputs": [
    {
     "name": "stdout",
     "output_type": "stream",
     "text": [
      "+--------------------+-------+\n",
      "|            features|CNIndex|\n",
      "+--------------------+-------+\n",
      "|[3238781.189,7.29...|   16.0|\n",
      "|[6.24E7,8.1996137...|    3.0|\n",
      "|[2.72E7,7.0900544...|    9.0|\n",
      "+--------------------+-------+\n",
      "only showing top 3 rows\n",
      "\n"
     ]
    }
   ],
   "source": [
    "final_df = outputFixed.select('features', 'CNIndex')\n",
    "final_df.show(3)"
   ]
  },
  {
   "cell_type": "code",
   "execution_count": 38,
   "metadata": {},
   "outputs": [],
   "source": [
    "train, test = final_df.randomSplit([0.7, 0.3])"
   ]
  },
  {
   "cell_type": "code",
   "execution_count": 39,
   "metadata": {},
   "outputs": [],
   "source": [
    "from pyspark.ml.classification import (DecisionTreeClassifier, RandomForestClassifier, \n",
    "                                      GBTClassifier)\n",
    "from pyspark.ml import Pipeline\n",
    "\n",
    "dt = DecisionTreeClassifier(labelCol = 'CNIndex', featuresCol = 'features')\n",
    "rf = RandomForestClassifier(labelCol = 'CNIndex', featuresCol = 'features')\n",
    "#gb = GBTClassifier(labelCol = 'GDPgIndex', featuresCol = 'features')"
   ]
  },
  {
   "cell_type": "code",
   "execution_count": 40,
   "metadata": {},
   "outputs": [],
   "source": [
    "dt_model = dt.fit(train)\n",
    "rf_model = rf.fit(train)\n",
    "#gb_model = gb.fit(train)"
   ]
  },
  {
   "cell_type": "code",
   "execution_count": 41,
   "metadata": {},
   "outputs": [],
   "source": [
    "dt_predictions = dt_model.transform(test)\n",
    "rf_predictions = rf_model.transform(test)\n",
    "#gb_predictions = gb_model.transform(test)"
   ]
  },
  {
   "cell_type": "code",
   "execution_count": 42,
   "metadata": {},
   "outputs": [
    {
     "name": "stdout",
     "output_type": "stream",
     "text": [
      "Decision Tree: 0.15104166666666666\n"
     ]
    }
   ],
   "source": [
    "from pyspark.ml.evaluation import BinaryClassificationEvaluator\n",
    "\n",
    "binary_evaluator = BinaryClassificationEvaluator(labelCol = 'CNIndex')\n",
    "\n",
    "print('Decision Tree:', binary_evaluator.evaluate(dt_predictions))"
   ]
  },
  {
   "cell_type": "code",
   "execution_count": 43,
   "metadata": {},
   "outputs": [
    {
     "name": "stdout",
     "output_type": "stream",
     "text": [
      "Random Forest: 0.20833333333333334\n"
     ]
    }
   ],
   "source": [
    "print('Random Forest:' , binary_evaluator.evaluate(rf_predictions))"
   ]
  },
  {
   "cell_type": "code",
   "execution_count": 44,
   "metadata": {},
   "outputs": [
    {
     "name": "stdout",
     "output_type": "stream",
     "text": [
      "Decision Tree Accu: 0.16494845360824742\n"
     ]
    }
   ],
   "source": [
    "from pyspark.ml.evaluation import MulticlassClassificationEvaluator\n",
    "\n",
    "multi_evaluator = MulticlassClassificationEvaluator(labelCol = 'CNIndex', metricName = 'accuracy')\n",
    "print('Decision Tree Accu:', multi_evaluator.evaluate(dt_predictions))"
   ]
  },
  {
   "cell_type": "markdown",
   "metadata": {},
   "source": [
    "## Decision Trees and random forest for factorizing GDP growth rate"
   ]
  },
  {
   "cell_type": "code",
   "execution_count": 45,
   "metadata": {},
   "outputs": [],
   "source": [
    "from pyspark.ml.feature import VectorAssembler\n",
    "\n",
    "assembler = VectorAssembler(inputCols = ['FDINI', 'Ind1', 'Ser', 'ADRyoun', 'PPg', \n",
    "                                                'PPf', 'PP1519f', 'PP1519m', 'PP2024f', 'PP2024m', \n",
    "                                                'Lab1524f', 'Lab1524tot', 'RFtoMlabpartcp'], outputCol = 'features')\n",
    "output = assembler.transform(df)"
   ]
  },
  {
   "cell_type": "code",
   "execution_count": 46,
   "metadata": {},
   "outputs": [
    {
     "name": "stdout",
     "output_type": "stream",
     "text": [
      "root\n",
      " |-- CN: string (nullable = true)\n",
      " |-- GDP: double (nullable = true)\n",
      " |-- FDINI: double (nullable = true)\n",
      " |-- NFA: double (nullable = true)\n",
      " |-- GDPg: double (nullable = true)\n",
      " |-- GDPpcg: double (nullable = true)\n",
      " |-- GCaFg: double (nullable = true)\n",
      " |-- Ind1: double (nullable = true)\n",
      " |-- ind2: double (nullable = true)\n",
      " |-- Ser: double (nullable = true)\n",
      " |-- ExGSgp: double (nullable = true)\n",
      " |-- ADRold: double (nullable = true)\n",
      " |-- ADRyoun: double (nullable = true)\n",
      " |-- PPg: double (nullable = true)\n",
      " |-- PPf: double (nullable = true)\n",
      " |-- PPm: double (nullable = true)\n",
      " |-- PP1519f: double (nullable = true)\n",
      " |-- PP1519m: double (nullable = true)\n",
      " |-- PP2024f: double (nullable = true)\n",
      " |-- PP2024m: double (nullable = true)\n",
      " |-- PP2529m: double (nullable = true)\n",
      " |-- PP2529f: double (nullable = true)\n",
      " |-- PP65above: double (nullable = true)\n",
      " |-- PP65afnum: double (nullable = true)\n",
      " |-- PP65af: double (nullable = true)\n",
      " |-- PP1564m: double (nullable = true)\n",
      " |-- PP1564f: double (nullable = true)\n",
      " |-- Lab1524f: double (nullable = true)\n",
      " |-- Lab1524m: double (nullable = true)\n",
      " |-- Lab1524tot: double (nullable = true)\n",
      " |-- Labf: double (nullable = true)\n",
      " |-- Labtot: double (nullable = true)\n",
      " |-- RFtoMlabpartcp: double (nullable = true)\n",
      " |-- features: vector (nullable = true)\n",
      " |-- GDPgIndex: double (nullable = true)\n",
      "\n"
     ]
    }
   ],
   "source": [
    "from pyspark.ml.feature import StringIndexer\n",
    "\n",
    "indexer = StringIndexer(inputCol = 'GDPg', outputCol = 'GDPgIndex')\n",
    "outputFixed = indexer.fit(output).transform(output)\n",
    "outputFixed.printSchema()"
   ]
  },
  {
   "cell_type": "code",
   "execution_count": 47,
   "metadata": {},
   "outputs": [
    {
     "name": "stdout",
     "output_type": "stream",
     "text": [
      "+--------------------+---------+\n",
      "|            features|GDPgIndex|\n",
      "+--------------------+---------+\n",
      "|[3238781.189,7.29...|    140.0|\n",
      "|[6.24E7,8.1996137...|    262.0|\n",
      "|[2.72E7,7.0900544...|    565.0|\n",
      "+--------------------+---------+\n",
      "only showing top 3 rows\n",
      "\n"
     ]
    }
   ],
   "source": [
    "final_df = outputFixed.select('features', 'GDPgIndex')\n",
    "final_df.show(3)"
   ]
  },
  {
   "cell_type": "code",
   "execution_count": 48,
   "metadata": {},
   "outputs": [],
   "source": [
    "train, test = final_df.randomSplit([0.7, 0.3])"
   ]
  },
  {
   "cell_type": "code",
   "execution_count": 49,
   "metadata": {},
   "outputs": [],
   "source": [
    "from pyspark.ml.classification import (DecisionTreeClassifier, RandomForestClassifier, \n",
    "                                      GBTClassifier)\n",
    "from pyspark.ml import Pipeline\n",
    "\n",
    "dt = DecisionTreeClassifier(labelCol = 'GDPgIndex', featuresCol = 'features')\n",
    "rf = RandomForestClassifier(labelCol = 'GDPgIndex', featuresCol = 'features')\n",
    "#gb = GBTClassifier(labelCol = 'GDPgIndex', featuresCol = 'features')"
   ]
  },
  {
   "cell_type": "code",
   "execution_count": 50,
   "metadata": {},
   "outputs": [],
   "source": [
    "dt_model = dt.fit(train)\n",
    "rf_model = rf.fit(train)\n",
    "#gb_model = gb.fit(train)"
   ]
  },
  {
   "cell_type": "code",
   "execution_count": 51,
   "metadata": {},
   "outputs": [],
   "source": [
    "dt_predictions = dt_model.transform(test)\n",
    "rf_predictions = rf_model.transform(test)\n",
    "#gb_predictions = gb_model.transform(test)"
   ]
  },
  {
   "cell_type": "code",
   "execution_count": 52,
   "metadata": {},
   "outputs": [
    {
     "name": "stdout",
     "output_type": "stream",
     "text": [
      "Decision Tree: 0.382183908045977\n"
     ]
    }
   ],
   "source": [
    "from pyspark.ml.evaluation import BinaryClassificationEvaluator\n",
    "\n",
    "binary_evaluator = BinaryClassificationEvaluator(labelCol = 'GDPgIndex')\n",
    "\n",
    "print('Decision Tree:', binary_evaluator.evaluate(dt_predictions))"
   ]
  },
  {
   "cell_type": "code",
   "execution_count": 53,
   "metadata": {
    "scrolled": true
   },
   "outputs": [
    {
     "name": "stdout",
     "output_type": "stream",
     "text": [
      "Random Forest: 0.3793103448275862\n"
     ]
    }
   ],
   "source": [
    "print('Random Forest:' , binary_evaluator.evaluate(rf_predictions))"
   ]
  },
  {
   "cell_type": "code",
   "execution_count": 54,
   "metadata": {},
   "outputs": [
    {
     "name": "stdout",
     "output_type": "stream",
     "text": [
      "Decision Tree Accu: 0.0\n"
     ]
    }
   ],
   "source": [
    "from pyspark.ml.evaluation import MulticlassClassificationEvaluator\n",
    "\n",
    "multi_evaluator = MulticlassClassificationEvaluator(labelCol = 'GDPgIndex', metricName = 'accuracy')\n",
    "print('Decision Tree Accu:', multi_evaluator.evaluate(dt_predictions))"
   ]
  },
  {
   "cell_type": "markdown",
   "metadata": {},
   "source": [
    "## Feature Importance"
   ]
  },
  {
   "cell_type": "code",
   "execution_count": 55,
   "metadata": {},
   "outputs": [],
   "source": [
    "from pyspark.ml.classification import RandomForestClassifier\n",
    "\n",
    "rf = RandomForestClassifier(labelCol = 'GDPg', featuresCol = 'features')"
   ]
  },
  {
   "cell_type": "code",
   "execution_count": 56,
   "metadata": {},
   "outputs": [],
   "source": [
    "final_df = output.select('features', 'GDPg')"
   ]
  },
  {
   "cell_type": "code",
   "execution_count": 57,
   "metadata": {},
   "outputs": [
    {
     "name": "stdout",
     "output_type": "stream",
     "text": [
      "+--------------------+-----------+\n",
      "|            features|       GDPg|\n",
      "+--------------------+-----------+\n",
      "|[3238781.189,7.29...|5.622258162|\n",
      "|[6.24E7,8.1996137...|8.976134361|\n",
      "|[2.72E7,7.0900544...| 4.63578591|\n",
      "+--------------------+-----------+\n",
      "only showing top 3 rows\n",
      "\n"
     ]
    }
   ],
   "source": [
    "final_df.show(3)"
   ]
  },
  {
   "cell_type": "code",
   "execution_count": 61,
   "metadata": {},
   "outputs": [
    {
     "ename": "IllegalArgumentException",
     "evalue": "'requirement failed: Classifier found max label value = 21.02064874 but requires integers in range [0, ... 2147483647)'",
     "output_type": "error",
     "traceback": [
      "\u001b[0;31m---------------------------------------------------------------------------\u001b[0m",
      "\u001b[0;31mPy4JJavaError\u001b[0m                             Traceback (most recent call last)",
      "\u001b[0;32m~/spark-2.1.1-bin-hadoop2.7/python/pyspark/sql/utils.py\u001b[0m in \u001b[0;36mdeco\u001b[0;34m(*a, **kw)\u001b[0m\n\u001b[1;32m     62\u001b[0m         \u001b[0;32mtry\u001b[0m\u001b[0;34m:\u001b[0m\u001b[0;34m\u001b[0m\u001b[0m\n\u001b[0;32m---> 63\u001b[0;31m             \u001b[0;32mreturn\u001b[0m \u001b[0mf\u001b[0m\u001b[0;34m(\u001b[0m\u001b[0;34m*\u001b[0m\u001b[0ma\u001b[0m\u001b[0;34m,\u001b[0m \u001b[0;34m**\u001b[0m\u001b[0mkw\u001b[0m\u001b[0;34m)\u001b[0m\u001b[0;34m\u001b[0m\u001b[0m\n\u001b[0m\u001b[1;32m     64\u001b[0m         \u001b[0;32mexcept\u001b[0m \u001b[0mpy4j\u001b[0m\u001b[0;34m.\u001b[0m\u001b[0mprotocol\u001b[0m\u001b[0;34m.\u001b[0m\u001b[0mPy4JJavaError\u001b[0m \u001b[0;32mas\u001b[0m \u001b[0me\u001b[0m\u001b[0;34m:\u001b[0m\u001b[0;34m\u001b[0m\u001b[0m\n",
      "\u001b[0;32m~/spark-2.1.1-bin-hadoop2.7/python/lib/py4j-0.10.4-src.zip/py4j/protocol.py\u001b[0m in \u001b[0;36mget_return_value\u001b[0;34m(answer, gateway_client, target_id, name)\u001b[0m\n\u001b[1;32m    318\u001b[0m                     \u001b[0;34m\"An error occurred while calling {0}{1}{2}.\\n\"\u001b[0m\u001b[0;34m.\u001b[0m\u001b[0;34m\u001b[0m\u001b[0m\n\u001b[0;32m--> 319\u001b[0;31m                     format(target_id, \".\", name), value)\n\u001b[0m\u001b[1;32m    320\u001b[0m             \u001b[0;32melse\u001b[0m\u001b[0;34m:\u001b[0m\u001b[0;34m\u001b[0m\u001b[0m\n",
      "\u001b[0;31mPy4JJavaError\u001b[0m: An error occurred while calling o1143.fit.\n: java.lang.IllegalArgumentException: requirement failed: Classifier found max label value = 21.02064874 but requires integers in range [0, ... 2147483647)\n\tat scala.Predef$.require(Predef.scala:224)\n\tat org.apache.spark.ml.classification.Classifier.getNumClasses(Classifier.scala:116)\n\tat org.apache.spark.ml.classification.RandomForestClassifier.train(RandomForestClassifier.scala:121)\n\tat org.apache.spark.ml.classification.RandomForestClassifier.train(RandomForestClassifier.scala:45)\n\tat org.apache.spark.ml.Predictor.fit(Predictor.scala:96)\n\tat org.apache.spark.ml.Predictor.fit(Predictor.scala:72)\n\tat sun.reflect.NativeMethodAccessorImpl.invoke0(Native Method)\n\tat sun.reflect.NativeMethodAccessorImpl.invoke(NativeMethodAccessorImpl.java:62)\n\tat sun.reflect.DelegatingMethodAccessorImpl.invoke(DelegatingMethodAccessorImpl.java:43)\n\tat java.lang.reflect.Method.invoke(Method.java:498)\n\tat py4j.reflection.MethodInvoker.invoke(MethodInvoker.java:244)\n\tat py4j.reflection.ReflectionEngine.invoke(ReflectionEngine.java:357)\n\tat py4j.Gateway.invoke(Gateway.java:280)\n\tat py4j.commands.AbstractCommand.invokeMethod(AbstractCommand.java:132)\n\tat py4j.commands.CallCommand.execute(CallCommand.java:79)\n\tat py4j.GatewayConnection.run(GatewayConnection.java:214)\n\tat java.lang.Thread.run(Thread.java:748)\n",
      "\nDuring handling of the above exception, another exception occurred:\n",
      "\u001b[0;31mIllegalArgumentException\u001b[0m                  Traceback (most recent call last)",
      "\u001b[0;32m<ipython-input-61-b8d8556801f6>\u001b[0m in \u001b[0;36m<module>\u001b[0;34m()\u001b[0m\n\u001b[0;32m----> 1\u001b[0;31m \u001b[0mrf_model\u001b[0m \u001b[0;34m=\u001b[0m \u001b[0mrf\u001b[0m\u001b[0;34m.\u001b[0m\u001b[0mfit\u001b[0m\u001b[0;34m(\u001b[0m\u001b[0mfinal_df\u001b[0m\u001b[0;34m)\u001b[0m\u001b[0;34m\u001b[0m\u001b[0m\n\u001b[0m",
      "\u001b[0;32m~/spark-2.1.1-bin-hadoop2.7/python/pyspark/ml/base.py\u001b[0m in \u001b[0;36mfit\u001b[0;34m(self, dataset, params)\u001b[0m\n\u001b[1;32m     62\u001b[0m                 \u001b[0;32mreturn\u001b[0m \u001b[0mself\u001b[0m\u001b[0;34m.\u001b[0m\u001b[0mcopy\u001b[0m\u001b[0;34m(\u001b[0m\u001b[0mparams\u001b[0m\u001b[0;34m)\u001b[0m\u001b[0;34m.\u001b[0m\u001b[0m_fit\u001b[0m\u001b[0;34m(\u001b[0m\u001b[0mdataset\u001b[0m\u001b[0;34m)\u001b[0m\u001b[0;34m\u001b[0m\u001b[0m\n\u001b[1;32m     63\u001b[0m             \u001b[0;32melse\u001b[0m\u001b[0;34m:\u001b[0m\u001b[0;34m\u001b[0m\u001b[0m\n\u001b[0;32m---> 64\u001b[0;31m                 \u001b[0;32mreturn\u001b[0m \u001b[0mself\u001b[0m\u001b[0;34m.\u001b[0m\u001b[0m_fit\u001b[0m\u001b[0;34m(\u001b[0m\u001b[0mdataset\u001b[0m\u001b[0;34m)\u001b[0m\u001b[0;34m\u001b[0m\u001b[0m\n\u001b[0m\u001b[1;32m     65\u001b[0m         \u001b[0;32melse\u001b[0m\u001b[0;34m:\u001b[0m\u001b[0;34m\u001b[0m\u001b[0m\n\u001b[1;32m     66\u001b[0m             raise ValueError(\"Params must be either a param map or a list/tuple of param maps, \"\n",
      "\u001b[0;32m~/spark-2.1.1-bin-hadoop2.7/python/pyspark/ml/wrapper.py\u001b[0m in \u001b[0;36m_fit\u001b[0;34m(self, dataset)\u001b[0m\n\u001b[1;32m    234\u001b[0m \u001b[0;34m\u001b[0m\u001b[0m\n\u001b[1;32m    235\u001b[0m     \u001b[0;32mdef\u001b[0m \u001b[0m_fit\u001b[0m\u001b[0;34m(\u001b[0m\u001b[0mself\u001b[0m\u001b[0;34m,\u001b[0m \u001b[0mdataset\u001b[0m\u001b[0;34m)\u001b[0m\u001b[0;34m:\u001b[0m\u001b[0;34m\u001b[0m\u001b[0m\n\u001b[0;32m--> 236\u001b[0;31m         \u001b[0mjava_model\u001b[0m \u001b[0;34m=\u001b[0m \u001b[0mself\u001b[0m\u001b[0;34m.\u001b[0m\u001b[0m_fit_java\u001b[0m\u001b[0;34m(\u001b[0m\u001b[0mdataset\u001b[0m\u001b[0;34m)\u001b[0m\u001b[0;34m\u001b[0m\u001b[0m\n\u001b[0m\u001b[1;32m    237\u001b[0m         \u001b[0;32mreturn\u001b[0m \u001b[0mself\u001b[0m\u001b[0;34m.\u001b[0m\u001b[0m_create_model\u001b[0m\u001b[0;34m(\u001b[0m\u001b[0mjava_model\u001b[0m\u001b[0;34m)\u001b[0m\u001b[0;34m\u001b[0m\u001b[0m\n\u001b[1;32m    238\u001b[0m \u001b[0;34m\u001b[0m\u001b[0m\n",
      "\u001b[0;32m~/spark-2.1.1-bin-hadoop2.7/python/pyspark/ml/wrapper.py\u001b[0m in \u001b[0;36m_fit_java\u001b[0;34m(self, dataset)\u001b[0m\n\u001b[1;32m    231\u001b[0m         \"\"\"\n\u001b[1;32m    232\u001b[0m         \u001b[0mself\u001b[0m\u001b[0;34m.\u001b[0m\u001b[0m_transfer_params_to_java\u001b[0m\u001b[0;34m(\u001b[0m\u001b[0;34m)\u001b[0m\u001b[0;34m\u001b[0m\u001b[0m\n\u001b[0;32m--> 233\u001b[0;31m         \u001b[0;32mreturn\u001b[0m \u001b[0mself\u001b[0m\u001b[0;34m.\u001b[0m\u001b[0m_java_obj\u001b[0m\u001b[0;34m.\u001b[0m\u001b[0mfit\u001b[0m\u001b[0;34m(\u001b[0m\u001b[0mdataset\u001b[0m\u001b[0;34m.\u001b[0m\u001b[0m_jdf\u001b[0m\u001b[0;34m)\u001b[0m\u001b[0;34m\u001b[0m\u001b[0m\n\u001b[0m\u001b[1;32m    234\u001b[0m \u001b[0;34m\u001b[0m\u001b[0m\n\u001b[1;32m    235\u001b[0m     \u001b[0;32mdef\u001b[0m \u001b[0m_fit\u001b[0m\u001b[0;34m(\u001b[0m\u001b[0mself\u001b[0m\u001b[0;34m,\u001b[0m \u001b[0mdataset\u001b[0m\u001b[0;34m)\u001b[0m\u001b[0;34m:\u001b[0m\u001b[0;34m\u001b[0m\u001b[0m\n",
      "\u001b[0;32m~/spark-2.1.1-bin-hadoop2.7/python/lib/py4j-0.10.4-src.zip/py4j/java_gateway.py\u001b[0m in \u001b[0;36m__call__\u001b[0;34m(self, *args)\u001b[0m\n\u001b[1;32m   1131\u001b[0m         \u001b[0manswer\u001b[0m \u001b[0;34m=\u001b[0m \u001b[0mself\u001b[0m\u001b[0;34m.\u001b[0m\u001b[0mgateway_client\u001b[0m\u001b[0;34m.\u001b[0m\u001b[0msend_command\u001b[0m\u001b[0;34m(\u001b[0m\u001b[0mcommand\u001b[0m\u001b[0;34m)\u001b[0m\u001b[0;34m\u001b[0m\u001b[0m\n\u001b[1;32m   1132\u001b[0m         return_value = get_return_value(\n\u001b[0;32m-> 1133\u001b[0;31m             answer, self.gateway_client, self.target_id, self.name)\n\u001b[0m\u001b[1;32m   1134\u001b[0m \u001b[0;34m\u001b[0m\u001b[0m\n\u001b[1;32m   1135\u001b[0m         \u001b[0;32mfor\u001b[0m \u001b[0mtemp_arg\u001b[0m \u001b[0;32min\u001b[0m \u001b[0mtemp_args\u001b[0m\u001b[0;34m:\u001b[0m\u001b[0;34m\u001b[0m\u001b[0m\n",
      "\u001b[0;32m~/spark-2.1.1-bin-hadoop2.7/python/pyspark/sql/utils.py\u001b[0m in \u001b[0;36mdeco\u001b[0;34m(*a, **kw)\u001b[0m\n\u001b[1;32m     77\u001b[0m                 \u001b[0;32mraise\u001b[0m \u001b[0mQueryExecutionException\u001b[0m\u001b[0;34m(\u001b[0m\u001b[0ms\u001b[0m\u001b[0;34m.\u001b[0m\u001b[0msplit\u001b[0m\u001b[0;34m(\u001b[0m\u001b[0;34m': '\u001b[0m\u001b[0;34m,\u001b[0m \u001b[0;36m1\u001b[0m\u001b[0;34m)\u001b[0m\u001b[0;34m[\u001b[0m\u001b[0;36m1\u001b[0m\u001b[0;34m]\u001b[0m\u001b[0;34m,\u001b[0m \u001b[0mstackTrace\u001b[0m\u001b[0;34m)\u001b[0m\u001b[0;34m\u001b[0m\u001b[0m\n\u001b[1;32m     78\u001b[0m             \u001b[0;32mif\u001b[0m \u001b[0ms\u001b[0m\u001b[0;34m.\u001b[0m\u001b[0mstartswith\u001b[0m\u001b[0;34m(\u001b[0m\u001b[0;34m'java.lang.IllegalArgumentException: '\u001b[0m\u001b[0;34m)\u001b[0m\u001b[0;34m:\u001b[0m\u001b[0;34m\u001b[0m\u001b[0m\n\u001b[0;32m---> 79\u001b[0;31m                 \u001b[0;32mraise\u001b[0m \u001b[0mIllegalArgumentException\u001b[0m\u001b[0;34m(\u001b[0m\u001b[0ms\u001b[0m\u001b[0;34m.\u001b[0m\u001b[0msplit\u001b[0m\u001b[0;34m(\u001b[0m\u001b[0;34m': '\u001b[0m\u001b[0;34m,\u001b[0m \u001b[0;36m1\u001b[0m\u001b[0;34m)\u001b[0m\u001b[0;34m[\u001b[0m\u001b[0;36m1\u001b[0m\u001b[0;34m]\u001b[0m\u001b[0;34m,\u001b[0m \u001b[0mstackTrace\u001b[0m\u001b[0;34m)\u001b[0m\u001b[0;34m\u001b[0m\u001b[0m\n\u001b[0m\u001b[1;32m     80\u001b[0m             \u001b[0;32mraise\u001b[0m\u001b[0;34m\u001b[0m\u001b[0m\n\u001b[1;32m     81\u001b[0m     \u001b[0;32mreturn\u001b[0m \u001b[0mdeco\u001b[0m\u001b[0;34m\u001b[0m\u001b[0m\n",
      "\u001b[0;31mIllegalArgumentException\u001b[0m: 'requirement failed: Classifier found max label value = 21.02064874 but requires integers in range [0, ... 2147483647)'"
     ]
    }
   ],
   "source": [
    "rf_model = rf.fit(final_df)\n",
    "#Opps! Out of range but it will not affect the importance analysis."
   ]
  },
  {
   "cell_type": "code",
   "execution_count": 59,
   "metadata": {},
   "outputs": [
    {
     "data": {
      "text/plain": [
       "[Row(features=DenseVector([3238781.189, 7.2975, 3.1512, 77.6129, 2.4687, 48.8919, 10.7613, 10.797, 9.8663, 9.6983, 21.057, 50.538, 26.1908]), GDPg=5.622258162)]"
      ]
     },
     "execution_count": 59,
     "metadata": {},
     "output_type": "execute_result"
    }
   ],
   "source": [
    "final_df.take(1)"
   ]
  },
  {
   "cell_type": "code",
   "execution_count": 60,
   "metadata": {},
   "outputs": [
    {
     "data": {
      "text/plain": [
       "SparseVector(13, {0: 0.1449, 1: 0.0726, 2: 0.0665, 3: 0.0571, 4: 0.0893, 5: 0.0666, 6: 0.0532, 7: 0.0644, 8: 0.0776, 9: 0.0735, 10: 0.0745, 11: 0.0717, 12: 0.0878})"
      ]
     },
     "execution_count": 60,
     "metadata": {},
     "output_type": "execute_result"
    }
   ],
   "source": [
    "rf_model.featureImportances"
   ]
  }
 ],
 "metadata": {
  "kernelspec": {
   "display_name": "Python 3",
   "language": "python",
   "name": "python3"
  },
  "language_info": {
   "codemirror_mode": {
    "name": "ipython",
    "version": 3
   },
   "file_extension": ".py",
   "mimetype": "text/x-python",
   "name": "python",
   "nbconvert_exporter": "python",
   "pygments_lexer": "ipython3",
   "version": "3.5.2"
  }
 },
 "nbformat": 4,
 "nbformat_minor": 2
}
